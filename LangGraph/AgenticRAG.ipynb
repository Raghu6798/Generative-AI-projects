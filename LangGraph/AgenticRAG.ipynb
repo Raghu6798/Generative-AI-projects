{
 "cells": [
  {
   "cell_type": "code",
   "execution_count": 37,
   "metadata": {},
   "outputs": [],
   "source": [
    "import cassio\n",
    "\n",
    "ASTRA_DB_APPLICATION_TOKEN = \"AstraCS:kHbIygIgPtniwYIzRsZAAvUK:d5c77950270bf75d939b99184b79f9c59db80ffde982d24c75c4af336397a0a8\"\n",
    "ASTRA_DB_ID = \"c2d3c0e3-b214-4042-8337-7f53fa6777bb\"\n",
    "cassio.init(token = ASTRA_DB_APPLICATION_TOKEN,database_id = ASTRA_DB_ID)"
   ]
  },
  {
   "cell_type": "code",
   "execution_count": 3,
   "metadata": {},
   "outputs": [
    {
     "data": {
      "text/plain": [
       "[Document(metadata={'source': 'https://langchain-ai.github.io/langgraph/concepts/langgraph_studio/', 'title': 'LangGraph Studio', 'description': 'Build language agents as graphs', 'language': 'en'}, page_content='LangGraph Studio\\n\\n\\n\\n\\n\\n\\n\\n\\n\\n\\n\\n\\n\\n\\n\\n          Skip to content\\n        \\n\\n\\n\\n\\n\\n\\n\\n\\n\\n\\n\\n\\n\\n\\n\\n\\n\\n\\n\\n\\n            \\n              LangGraph Studio\\n            \\n          \\n\\n\\n\\n\\n\\n\\n\\n\\n\\n\\n\\n\\n\\n\\n\\n\\n\\n\\n\\n\\n\\n\\n\\n\\n\\n\\n\\n\\n\\n\\n\\n\\n\\n\\n\\n\\n\\n\\n\\n\\n            Initializing search\\n          \\n\\n\\n\\n\\n\\n\\n\\n\\n\\n\\n\\n\\n    GitHub\\n  \\n\\n\\n\\n\\n\\n\\n\\n\\n        \\n  \\n    \\n  \\n  Home\\n\\n      \\n\\n\\n\\n          \\n  \\n    \\n  \\n  Tutorials\\n\\n        \\n\\n\\n\\n          \\n  \\n    \\n  \\n  How-to Guides\\n\\n        \\n\\n\\n\\n          \\n  \\n    \\n  \\n  Conceptual Guides\\n\\n        \\n\\n\\n\\n          \\n  \\n    \\n  \\n  Reference\\n\\n        \\n\\n\\n\\n\\n\\n\\n\\n\\n\\n\\n\\n\\n\\n\\n\\n\\n\\n\\n\\n\\n\\n\\n\\n\\n    GitHub\\n  \\n\\n\\n\\n\\n\\n\\n    \\n  \\n    Home\\n  \\n\\n    \\n  \\n\\n\\n\\n\\n\\n    \\n  \\n    Tutorials\\n  \\n\\n    \\n  \\n\\n\\n\\n\\n\\n\\n    \\n  \\n    How-to Guides\\n  \\n\\n    \\n  \\n\\n\\n\\n\\n\\n\\n\\n\\n    \\n  \\n    Conceptual Guides\\n  \\n\\n    \\n  \\n\\n\\n\\n\\n\\n\\n\\n\\n            \\n  \\n    Conceptual Guides\\n  \\n\\n          \\n\\n\\n\\n\\n\\n    \\n  \\n    LangGraph\\n  \\n\\n    \\n  \\n\\n\\n\\n\\n\\n            \\n  \\n    LangGraph\\n  \\n\\n          \\n\\n\\n\\n\\n    \\n  \\n    LangGraph\\n  \\n\\n    \\n  \\n\\n\\n\\n\\n\\n    \\n  \\n    Why LangGraph?\\n  \\n\\n    \\n  \\n\\n\\n\\n\\n\\n    \\n  \\n    LangGraph Glossary\\n  \\n\\n    \\n  \\n\\n\\n\\n\\n\\n    \\n  \\n    Agent architectures\\n  \\n\\n    \\n  \\n\\n\\n\\n\\n\\n    \\n  \\n    Multi-agent Systems\\n  \\n\\n    \\n  \\n\\n\\n\\n\\n\\n    \\n  \\n    Human-in-the-loop\\n  \\n\\n    \\n  \\n\\n\\n\\n\\n\\n    \\n  \\n    Persistence\\n  \\n\\n    \\n  \\n\\n\\n\\n\\n\\n    \\n  \\n    Memory\\n  \\n\\n    \\n  \\n\\n\\n\\n\\n\\n    \\n  \\n    Streaming\\n  \\n\\n    \\n  \\n\\n\\n\\n\\n\\n    \\n  \\n    FAQ\\n  \\n\\n    \\n  \\n\\n\\n\\n\\n\\n\\n\\n\\n\\n    \\n  \\n    LangGraph Platform\\n  \\n\\n    \\n  \\n\\n\\n\\n\\n\\n            \\n  \\n    LangGraph Platform\\n  \\n\\n          \\n\\n\\n\\n\\n    \\n  \\n    LangGraph Platform\\n  \\n\\n    \\n  \\n\\n\\n\\n\\n\\n    \\n  \\n    High Level'),\n",
       " Document(metadata={'source': 'https://langchain-ai.github.io/langgraph/concepts/langgraph_studio/', 'title': 'LangGraph Studio', 'description': 'Build language agents as graphs', 'language': 'en'}, page_content='Streaming\\n  \\n\\n    \\n  \\n\\n\\n\\n\\n\\n    \\n  \\n    FAQ\\n  \\n\\n    \\n  \\n\\n\\n\\n\\n\\n\\n\\n\\n\\n    \\n  \\n    LangGraph Platform\\n  \\n\\n    \\n  \\n\\n\\n\\n\\n\\n            \\n  \\n    LangGraph Platform\\n  \\n\\n          \\n\\n\\n\\n\\n    \\n  \\n    LangGraph Platform\\n  \\n\\n    \\n  \\n\\n\\n\\n\\n\\n    \\n  \\n    High Level\\n  \\n\\n    \\n  \\n\\n\\n\\n\\n\\n\\n\\n    \\n  \\n    Components\\n  \\n\\n    \\n  \\n\\n\\n\\n\\n\\n            \\n  \\n    Components\\n  \\n\\n          \\n\\n\\n\\n\\n    \\n  \\n    Components\\n  \\n\\n    \\n  \\n\\n\\n\\n\\n\\n    \\n  \\n    LangGraph Server\\n  \\n\\n    \\n  \\n\\n\\n\\n\\n\\n\\n    \\n  \\n    LangGraph Studio\\n  \\n\\n    \\n  \\n\\n\\n\\n\\n    \\n  \\n    LangGraph Studio\\n  \\n\\n    \\n  \\n\\n\\n\\n\\n      Table of contents\\n    \\n\\n\\n\\n\\n      \\n        Features\\n      \\n    \\n\\n\\n\\n\\n\\n      \\n        Types\\n      \\n    \\n\\n\\n\\n\\n\\n\\n      \\n        Desktop app\\n      \\n    \\n\\n\\n\\n\\n\\n      \\n        Cloud studio\\n      \\n    \\n\\n\\n\\n\\n\\n      \\n        Development server\\n      \\n    \\n\\n\\n\\n\\n\\n\\n\\n\\n      \\n        Studio FAQs\\n      \\n    \\n\\n\\n\\n\\n\\n\\n      \\n        Why is my project failing to start?\\n      \\n    \\n\\n\\n\\n\\n\\n\\n      \\n        Docker issues (desktop only)\\n      \\n    \\n\\n\\n\\n\\n\\n      \\n        Configuration or environment issues\\n      \\n    \\n\\n\\n\\n\\n\\n\\n\\n\\n      \\n        How does interrupt work?\\n      \\n    \\n\\n\\n\\n\\n\\n      \\n        How do I reload the app? (desktop only)\\n      \\n    \\n\\n\\n\\n\\n\\n      \\n        How does automatic rebuilding work? (desktop only)\\n      \\n    \\n\\n\\n\\n\\n\\n\\n      \\n        Rebuilds from source code changes\\n      \\n    \\n\\n\\n\\n\\n\\n      \\n        Rebuilds from configuration or dependency changes\\n      \\n    \\n\\n\\n\\n\\n\\n\\n\\n\\n      \\n        Why is my graph taking so long to startup? (desktop only)\\n      \\n    \\n\\n\\n\\n\\n\\n\\n\\n\\n      \\n        Why are extra edges showing up in my graph?\\n      \\n    \\n\\n\\n\\n\\n\\n\\n      \\n        Solution 1: Include a path map'),\n",
       " Document(metadata={'source': 'https://langchain-ai.github.io/langgraph/concepts/langgraph_studio/', 'title': 'LangGraph Studio', 'description': 'Build language agents as graphs', 'language': 'en'}, page_content='Rebuilds from source code changes\\n      \\n    \\n\\n\\n\\n\\n\\n      \\n        Rebuilds from configuration or dependency changes\\n      \\n    \\n\\n\\n\\n\\n\\n\\n\\n\\n      \\n        Why is my graph taking so long to startup? (desktop only)\\n      \\n    \\n\\n\\n\\n\\n\\n\\n\\n\\n      \\n        Why are extra edges showing up in my graph?\\n      \\n    \\n\\n\\n\\n\\n\\n\\n      \\n        Solution 1: Include a path map\\n      \\n    \\n\\n\\n\\n\\n\\n      \\n        Solution 2: Update the typing of the router (Python only)\\n      \\n    \\n\\n\\n\\n\\n\\n\\n\\n\\n      \\n        Related\\n      \\n    \\n\\n\\n\\n\\n\\n\\n\\n\\n    \\n  \\n    LangGraph CLI\\n  \\n\\n    \\n  \\n\\n\\n\\n\\n\\n    \\n  \\n    LangGraph SDK\\n  \\n\\n    \\n  \\n\\n\\n\\n\\n\\n    \\n  \\n    How to interact with the deployment using RemoteGraph\\n  \\n\\n    \\n  \\n\\n\\n\\n\\n\\n\\n\\n\\n    \\n  \\n    LangGraph Server\\n  \\n\\n    \\n  \\n\\n\\n\\n\\n\\n\\n    \\n  \\n    Deployment Options\\n  \\n\\n    \\n  \\n\\n\\n\\n\\n\\n\\n\\n\\n\\n\\n\\n\\n    \\n  \\n    Reference\\n  \\n\\n    \\n  \\n\\n\\n\\n\\n\\n\\n\\n\\n\\n\\n\\n\\n\\n\\n      Table of contents\\n    \\n\\n\\n\\n\\n      \\n        Features\\n      \\n    \\n\\n\\n\\n\\n\\n      \\n        Types\\n      \\n    \\n\\n\\n\\n\\n\\n\\n      \\n        Desktop app\\n      \\n    \\n\\n\\n\\n\\n\\n      \\n        Cloud studio\\n      \\n    \\n\\n\\n\\n\\n\\n      \\n        Development server\\n      \\n    \\n\\n\\n\\n\\n\\n\\n\\n\\n      \\n        Studio FAQs\\n      \\n    \\n\\n\\n\\n\\n\\n\\n      \\n        Why is my project failing to start?\\n      \\n    \\n\\n\\n\\n\\n\\n\\n      \\n        Docker issues (desktop only)\\n      \\n    \\n\\n\\n\\n\\n\\n      \\n        Configuration or environment issues\\n      \\n    \\n\\n\\n\\n\\n\\n\\n\\n\\n      \\n        How does interrupt work?\\n      \\n    \\n\\n\\n\\n\\n\\n      \\n        How do I reload the app? (desktop only)\\n      \\n    \\n\\n\\n\\n\\n\\n      \\n        How does automatic rebuilding work? (desktop only)\\n      \\n    \\n\\n\\n\\n\\n\\n\\n      \\n        Rebuilds from source code changes\\n      \\n    \\n\\n\\n\\n\\n\\n      \\n        Rebuilds from configuration or dependency changes'),\n",
       " Document(metadata={'source': 'https://langchain-ai.github.io/langgraph/concepts/langgraph_studio/', 'title': 'LangGraph Studio', 'description': 'Build language agents as graphs', 'language': 'en'}, page_content='How does interrupt work?\\n      \\n    \\n\\n\\n\\n\\n\\n      \\n        How do I reload the app? (desktop only)\\n      \\n    \\n\\n\\n\\n\\n\\n      \\n        How does automatic rebuilding work? (desktop only)\\n      \\n    \\n\\n\\n\\n\\n\\n\\n      \\n        Rebuilds from source code changes\\n      \\n    \\n\\n\\n\\n\\n\\n      \\n        Rebuilds from configuration or dependency changes\\n      \\n    \\n\\n\\n\\n\\n\\n\\n\\n\\n      \\n        Why is my graph taking so long to startup? (desktop only)\\n      \\n    \\n\\n\\n\\n\\n\\n\\n\\n\\n      \\n        Why are extra edges showing up in my graph?\\n      \\n    \\n\\n\\n\\n\\n\\n\\n      \\n        Solution 1: Include a path map\\n      \\n    \\n\\n\\n\\n\\n\\n      \\n        Solution 2: Update the typing of the router (Python only)\\n      \\n    \\n\\n\\n\\n\\n\\n\\n\\n\\n      \\n        Related\\n      \\n    \\n\\n\\n\\n\\n\\n\\n\\n\\n\\n\\n\\n\\n\\n    Home\\n  \\n\\n\\n\\n\\n\\n    Conceptual Guides\\n  \\n\\n\\n\\n\\n\\n    LangGraph Platform\\n  \\n\\n\\n\\n\\n\\n    Components\\n  \\n\\n\\n\\n\\n\\n\\n\\nLangGraph Studio¶\\n\\nPrerequisites\\n\\nLangGraph Platform\\nLangGraph Server\\n\\n\\nLangGraph Studio offers a new way to develop LLM applications by providing a specialized agent IDE that enables visualization, interaction, and debugging of complex agentic applications.\\nWith visual graphs and the ability to edit state, you can better understand agent workflows and iterate faster. LangGraph Studio integrates with LangSmith allowing you to  collaborate with teammates to debug failure modes.\\n\\nFeatures¶\\nThe key features of LangGraph Studio are:\\n\\nVisualizes your graph\\nTest your graph by running it from the UI\\nDebug your agent by modifying its state and rerunning\\nCreate and manage assistants\\nView and manage threads\\nView and manage long term memory\\nAdd node input/outputs to LangSmith datasets for testing'),\n",
       " Document(metadata={'source': 'https://langchain-ai.github.io/langgraph/concepts/langgraph_studio/', 'title': 'LangGraph Studio', 'description': 'Build language agents as graphs', 'language': 'en'}, page_content=\"Types¶\\nDesktop app¶\\nLangGraph Studio is available as a desktop app for MacOS users.\\nWhile in Beta, LangGraph Studio is available for free to all LangSmith users on any plan tier.\\nCloud studio¶\\nIf you have deployed your LangGraph application on LangGraph Platform (Cloud), you can access the studio as part of that\\nDevelopment server¶\\nLangGraph CLI also contains a command for running an in-memory development server that can be used to connect a local LangGraph app with the studio.\\nSee instructions here for more information.\\nThe way this works is that it runs inside your local environment.\\nIt will spin up an in-memory, development server to deploy the graph.\\nYou can then connect to the studio via the Cloud hosted version of LangGraph Platform.\\nTo be clear, the web studio will connect to your locally running server - your agent is still running locally and never leaves your device.\\nStudio FAQs¶\\nWhy is my project failing to start?¶\\nThere are a few reasons that your project might fail to start, here are some of the most common ones.\\nDocker issues (desktop only)¶\\nLangGraph Studio (desktop) requires Docker Desktop version 4.24 or higher. Please make sure you have a version of Docker installed that satisfies that requirement and also make sure you have the Docker Desktop app up and running before trying to use LangGraph Studio. In addition, make sure you have docker-compose updated to version 2.22.0 or higher.\\nConfiguration or environment issues¶\\nAnother reason your project might fail to start is because your configuration file is defined incorrectly, or you are missing required environment variables. \\nHow does interrupt work?¶\\nWhen you select the Interrupts dropdown and select a node to interrupt the graph will pause execution before and after (unless the node goes straight to END) that node has run. This means that you will be able to both edit the state before the node is ran and the state after the node has ran. This is intended to allow developers more fine-grained control over the behavior of a node and make it easier to observe how the node is behaving. You will not be able to edit the state after the node has ran if the node is the final node in the graph.\\nHow do I reload the app?  (desktop only)¶\\nIf you would like to reload the app, don't use Command+R as you might normally do. Instead, close and reopen the app for a full refresh.\\nHow does automatic rebuilding work?  (desktop only)¶\\nOne of the key features of LangGraph Studio is that it automatically rebuilds your image when you change the source code. This allows for a super fast development and testing cycle which makes it easy to iterate on your graph. There are two different ways that LangGraph rebuilds your image: either by editing the image or completely rebuilding it.\\nRebuilds from source code changes¶\\nIf you modified the source code only (no configuration or dependency changes!) then the image does not require a full rebuild, and LangGraph Studio will only update the relevant parts. The UI status in the bottom left will switch from Online to Stopping temporarily while the image gets edited. The logs will be shown as this process is happening, and after the image has been edited the status will change back to Online and you will be able to run your graph with the modified code!\\nRebuilds from configuration or dependency changes¶\\nIf you edit your graph configuration file (langgraph.json) or the dependencies (either pyproject.toml or requirements.txt) then the entire image will be rebuilt. This will cause the UI to switch away from the graph view and start showing the logs of the new image building process. This can take a minute or two, and once it is done your updated image will be ready to use!\\nWhy is my graph taking so long to startup?  (desktop only)¶\\nThe LangGraph Studio interacts with a local LangGraph API server. To stay aligned with ongoing updates, the LangGraph API requires regular rebuilding. As a result, you may occasionally experience slight delays when starting up your project.\\nWhy are extra edges showing up in my graph?¶\\nIf you don't define your conditional edges carefully, you might notice extra edges appearing in your graph. This is because without proper definition, LangGraph Studio assumes the conditional edge could access all other nodes. In order for this to not be the case, you need to be explicit about how you define the nodes the conditional edge routes to. There are two ways you can do this:\\nSolution 1: Include a path map¶\"),\n",
       " Document(metadata={'source': 'https://langchain-ai.github.io/langgraph/concepts/langgraph_studio/', 'title': 'LangGraph Studio', 'description': 'Build language agents as graphs', 'language': 'en'}, page_content=\"Why is my graph taking so long to startup?  (desktop only)¶\\nThe LangGraph Studio interacts with a local LangGraph API server. To stay aligned with ongoing updates, the LangGraph API requires regular rebuilding. As a result, you may occasionally experience slight delays when starting up your project.\\nWhy are extra edges showing up in my graph?¶\\nIf you don't define your conditional edges carefully, you might notice extra edges appearing in your graph. This is because without proper definition, LangGraph Studio assumes the conditional edge could access all other nodes. In order for this to not be the case, you need to be explicit about how you define the nodes the conditional edge routes to. There are two ways you can do this:\\nSolution 1: Include a path map¶\\nThe first way to solve this is to add path maps to your conditional edges. A path map is just a dictionary or array that maps the possible outputs of your router function with the names of the nodes that each output corresponds to. The path map is passed as the third argument to the add_conditional_edges function like so:\\nPythonJavascript\"),\n",
       " Document(metadata={'source': 'https://langchain-ai.github.io/langgraph/concepts/langgraph_studio/', 'title': 'LangGraph Studio', 'description': 'Build language agents as graphs', 'language': 'en'}, page_content='graph.add_conditional_edges(\"node_a\", routing_function, {True: \"node_b\", False: \"node_c\"})\\n\\n\\n\\ngraph.addConditionalEdges(\"node_a\", routingFunction, { true: \"node_b\", false: \"node_c\" });\\n\\n\\n\\n\\nIn this case, the routing function returns either True or False, which map to node_b and node_c respectively.\\nSolution 2: Update the typing of the router (Python only)¶\\nInstead of passing a path map, you can also be explicit about the typing of your routing function by specifying the nodes it can map to using the Literal python definition. Here is an example of how to define a routing function in that way:\\ndef routing_function(state: GraphState) -> Literal[\"node_b\",\"node_c\"]:\\n    if state[\\'some_condition\\'] == True:\\n        return \"node_b\"\\n    else:\\n        return \"node_c\"\\n\\nRelated¶\\nFor more information please see the following:\\n\\nLangGraph Studio how-to guides\\n\\nComments\\n\\n\\n\\n\\n\\n\\n\\n\\n\\n\\n  Back to top\\n\\n\\n\\n\\n\\n\\n\\n\\n\\n\\n                Previous\\n              \\n\\n                LangGraph Server\\n              \\n\\n\\n\\n\\n\\n                Next\\n              \\n\\n                LangGraph CLI\\n              \\n\\n\\n\\n\\n\\n\\n\\n\\n\\n  \\n  \\n    Made with\\n    \\n      Material for MkDocs Insiders'),\n",
       " Document(metadata={'source': 'https://inference-docs.cerebras.ai/quickstart', 'title': 'QuickStart - Cerebras Inference', 'language': 'en'}, page_content='QuickStart - Cerebras InferenceCerebras Inference home pageSearch or ask...Search...NavigationGet StartedQuickStartDocumentationAPI ReferenceCerebras Inference home pageAboutCommunityBlogPython SDKNode.js SDKGet StartedOverviewQuickStartCapabilitiesStreaming ResponsesTool UseResourcesIntegrationsExamplesOpenAI CompatibilityAI Agent BootcampIntroduction to AI AgentsTool Use and Function CallingSupportError CodesRelease NotesGet StartedQuickStartThis QuickStart guide is designed to assist you in making your first API call. If you are an experienced AI applications developer, you may find it more beneficial to go directly to the API reference documentation.\\nIf you would like to interact with the models using Cerebras’ Inference solution before making an API call, please visit the developer playground.\\nThis guide will walk you through:\\n\\nSetting up your developer environment\\nInstalling the Cerebras Inference library\\nMaking your first request to the Cerebras API\\n\\n\\u200bPrerequisites\\nTo complete this guide, you will need:\\n\\nA Cerebras account\\nA Cerebras Inference API key\\nPython 3.7+ or TypeScript 4.5+\\n\\n\\u200bStep 1: Set up your API key\\nThe first thing you will need is a valid API key. Please visit this link and navigate to “API Keys” on the left nav bar.\\nFor security reasons and to avoid configuring your API key each time, it is recommended to set your API key as an environment variable. You can do this by running the following command in your terminal:\\nexport CEREBRAS_API_KEY=\"your-api-key-here\"\\n\\n\\u200bStep 2: Install the Cerebras Inference library\\nThe Cerebras Inference library is available for download and installation through the Python Package Index (PyPI) and the npm package manager. To install the library run either of the following commands in your terminal, based on your language of choice:\\nNote: You can also call the underlying API directly (see cURL request example below in Step 3).\\n\\n\\u200bStep 3: Making an API request\\nIf your request is being blocked by CloudFront, ensure that User-Agent is included in your headers\\nOnce you have configured your API key, you are ready to send your first API request.\\nThe following code snippets demonstrate how to make an API request to the Cerebras API to perform a chat completion.\\n\\n\\u200bNext Steps\\n\\nVisit our repositories for our Python and Node.js libraries\\nCheck out our API Reference to learn about the details of our available endpoints and request parameters.\\nLearn how to stream responses.\\nLearn about tool use.\\nWas this page helpful?YesNoOverviewStreaming ResponsesPowered by MintlifyOn this pagePrerequisitesStep 1: Set up your API keyStep 2: Install the Cerebras Inference libraryStep 3: Making an API requestNext Steps'),\n",
       " Document(metadata={'source': 'https://docs.smith.langchain.com/', 'title': 'Get started with LangSmith | \\uf8ffü¶úÔ∏è\\uf8ffüõ†Ô∏è LangSmith', 'description': \"LangSmith is a platform for building production-grade LLM applications. It allows you to closely monitor and evaluate your application, so you can ship quickly and with confidence. Use of LangChain's open source frameworks is not necessary - LangSmith works on its own!\", 'language': 'en'}, page_content='Get started with LangSmith | \\uf8ffü¶úÔ∏è\\uf8ffüõ†Ô∏è LangSmith\\n\\n\\n\\n\\n\\n\\nSkip to main contentGo to API DocsSearchRegionUSEUGo to AppQuick StartObservabilityEvaluationPrompt EngineeringDeployment (LangGraph Cloud)AdministrationSelf-hostingReferenceQuick StartOn this pageGet started with LangSmith\\nLangSmith is a platform for building production-grade LLM applications. It allows you to closely monitor and evaluate your application, so you can ship quickly and with confidence. Use of LangChain\\'s open source frameworks is not necessary - LangSmith works on its own!\\n1. Install LangSmith‚Äã\\nPythonTypeScriptpip install -U langsmith openaiyarn add langsmith openai\\n2. Create an API key‚Äã\\nTo create an API key head to the Settings page. Then click Create API Key.\\n3. Set up your environment‚Äã\\nShellexport LANGCHAIN_TRACING_V2=trueexport LANGCHAIN_API_KEY=<your-api-key># The below examples use the OpenAI API, though it\\'s not necessary in generalexport OPENAI_API_KEY=<your-openai-api-key>\\n4. Log your first trace‚Äã\\nLangSmith + LangChain OSSYou don\\'t need to use the LangSmith SDK directly if your application is built on LangChain/LangGraph (either Python and JS).See the how-to guide for tracing with LangChain here.\\nWe provide multiple ways to log traces to LangSmith. Below, we\\'ll highlight\\nhow to use traceable(). See more on the Annotate code for tracing page.\\nPythonTypeScriptimport openaifrom langsmith.wrappers import wrap_openaifrom langsmith import traceable# Auto-trace LLM calls in-contextclient = wrap_openai(openai.Client())@traceable # Auto-trace this functiondef pipeline(user_input: str):    result = client.chat.completions.create(        messages=[{\"role\": \"user\", \"content\": user_input}],        model=\"gpt-4o-mini\"    )    return result.choices[0].message.contentpipeline(\"Hello, world!\")# Out:  Hello there! How can I assist you today?import { OpenAI } from \"openai\";import { traceable } from \"langsmith/traceable\";import { wrapOpenAI } from \"langsmith/wrappers\";// Auto-trace LLM calls in-contextconst client = wrapOpenAI(new OpenAI());// Auto-trace this functionconst pipeline = traceable(async (user_input) => {    const result = await client.chat.completions.create({        messages: [{ role: \"user\", content: user_input }],        model: \"gpt-4o-mini\",    });    return result.choices[0].message.content;});await pipeline(\"Hello, world!\")// Out: Hello there! How can I assist you today?\\n\\nView a sample output trace.\\nLearn more about tracing in the observability tutorials, conceptual guide and how-to guides.'),\n",
       " Document(metadata={'source': 'https://docs.smith.langchain.com/', 'title': 'Get started with LangSmith | \\uf8ffü¶úÔ∏è\\uf8ffüõ†Ô∏è LangSmith', 'description': \"LangSmith is a platform for building production-grade LLM applications. It allows you to closely monitor and evaluate your application, so you can ship quickly and with confidence. Use of LangChain's open source frameworks is not necessary - LangSmith works on its own!\", 'language': 'en'}, page_content='View a sample output trace.\\nLearn more about tracing in the observability tutorials, conceptual guide and how-to guides.\\n\\n5. Run your first evaluation‚Äã\\nEvaluation requires a system to test, data to serve as test cases, and optionally evaluators to grade the results. Here we use a built-in accuracy evaluator.\\nPythonTypeScriptfrom langsmith import Client, evaluateclient = Client()# Define dataset: these are your test casesdataset_name = \"Sample Dataset\"dataset = client.create_dataset(dataset_name, description=\"A sample dataset in LangSmith.\")client.create_examples(  inputs=[      {\"postfix\": \"to LangSmith\"},      {\"postfix\": \"to Evaluations in LangSmith\"},  ],  outputs=[      {\"output\": \"Welcome to LangSmith\"},      {\"output\": \"Welcome to Evaluations in LangSmith\"},  ],  dataset_id=dataset.id,)# Define your evaluatordef exact_match(run, example):  return {\"score\": run.outputs[\"output\"] == example.outputs[\"output\"]}experiment_results = evaluate(  lambda input: \"Welcome \" + input[\\'postfix\\'], # Your AI system goes here  data=dataset_name, # The data to predict and grade over  evaluators=[exact_match], # The evaluators to score the results  experiment_prefix=\"sample-experiment\", # The name of the experiment  metadata={    \"version\": \"1.0.0\",    \"revision_id\": \"beta\"  },)import { Client, Run, Example } from \"langsmith\";import { EvaluationResult, evaluate } from \"langsmith/evaluation\";const client = new Client();// Define dataset: these are your test casesconst datasetName = \"Sample Dataset\";const dataset = await client.createDataset(datasetName, {  description: \"A sample dataset in LangSmith.\",});await client.createExamples({  inputs: [    { postfix: \"to LangSmith\" },    { postfix: \"to Evaluations in LangSmith\" },  ],  outputs: [    { output: \"Welcome to LangSmith\" },    { output: \"Welcome to Evaluations in LangSmith\" },  ],  datasetId: dataset.id,});// Define your evaluatorconst exactMatch = async (  run: Run,  example: Example): Promise<EvaluationResult> => {  return {    key: \"exact_match\",    score: run.outputs?.output === example?.outputs?.output,  };};await evaluate(  (input: { postfix: string }) => ({ output: `Welcome ${input.postfix}` }),  {    data: datasetName,    evaluators: [exactMatch],    metadata: {      version: \"1.0.0\",      revision_id: \"beta\",    },  });\\n\\nClick the link printed out by your evaluation run to access the LangSmith experiments UI,\\nand explore the results of your evaluation.\\nLearn more about evaluation in the tutorials, conceptual guide, and how-to guides.\\nWas this page helpful?You can leave detailed feedback on GitHub.NextConcepts1. Install LangSmith2. Create an API key3. Set up your environment4. Log your first trace5. Run your first evaluationCommunityDiscordTwitterGitHubDocs CodeLangSmith SDKPythonJS/TSMoreHomepageBlogLangChain Python DocsLangChain JS/TS DocsCopyright ¬© 2024 LangChain, Inc.')]"
      ]
     },
     "execution_count": 3,
     "metadata": {},
     "output_type": "execute_result"
    }
   ],
   "source": [
    "from langchain.text_splitter import RecursiveCharacterTextSplitter\n",
    "from langchain_community.document_loaders import WebBaseLoader\n",
    "\n",
    "urls = [\n",
    "    \"https://langchain-ai.github.io/langgraph/concepts/langgraph_studio/\",\n",
    "    \"https://inference-docs.cerebras.ai/quickstart\",\n",
    "    \"https://docs.smith.langchain.com/\"\n",
    "]\n",
    "\n",
    "docs = [WebBaseLoader(url).load() for url in urls]\n",
    "doc_list = [item for sublist in docs for item in sublist]\n",
    "text_splitter = RecursiveCharacterTextSplitter.from_tiktoken_encoder(chunk_size = 1000,chunk_overlap = 200)\n",
    "texts = text_splitter.split_documents(doc_list)\n",
    "texts"
   ]
  },
  {
   "cell_type": "code",
   "execution_count": 5,
   "metadata": {},
   "outputs": [
    {
     "name": "stdout",
     "output_type": "stream",
     "text": [
      "WARNING:tensorflow:From c:\\Users\\Raghu\\OneDrive\\Documents\\Anaconda\\envs\\LSTM\\Lib\\site-packages\\tf_keras\\src\\losses.py:2976: The name tf.losses.sparse_softmax_cross_entropy is deprecated. Please use tf.compat.v1.losses.sparse_softmax_cross_entropy instead.\n",
      "\n"
     ]
    }
   ],
   "source": [
    "from langchain_huggingface import HuggingFaceEmbeddings\n",
    "from dotenv import load_dotenv\n",
    "load_dotenv()\n",
    "\n",
    "embeddings = HuggingFaceEmbeddings(model_name = 'all-MiniLM-L6-v2')"
   ]
  },
  {
   "cell_type": "code",
   "execution_count": 6,
   "metadata": {},
   "outputs": [
    {
     "name": "stdout",
     "output_type": "stream",
     "text": [
      "Inserted 10 headlines :\n"
     ]
    },
    {
     "data": {
      "text/plain": [
       "['3b43e8aa9734457196f09ade4ec8a332',\n",
       " '0b214376475840de829bcb6a3b1e1608',\n",
       " 'c4ea9de519d74e4791cf4203eff0a408']"
      ]
     },
     "execution_count": 6,
     "metadata": {},
     "output_type": "execute_result"
    }
   ],
   "source": [
    "from langchain.vectorstores.cassandra import Cassandra\n",
    "\n",
    "astra_vector_store = Cassandra(embedding=embeddings,table_name = \"qa_mini_demo\",session=None,keyspace=None)\n",
    "\n",
    "from langchain.indexes.vectorstore import VectorStoreIndexWrapper\n",
    "print(\"Inserted %i headlines :\" % len(texts))\n",
    "astra_vector_store.add_documents(doc_list)\n"
   ]
  },
  {
   "cell_type": "code",
   "execution_count": 15,
   "metadata": {},
   "outputs": [
    {
     "data": {
      "text/plain": [
       "[Document(id='c4ea9de519d74e4791cf4203eff0a408', metadata={'description': \"LangSmith is a platform for building production-grade LLM applications. It allows you to closely monitor and evaluate your application, so you can ship quickly and with confidence. Use of LangChain's open source frameworks is not necessary - LangSmith works on its own!\", 'language': 'en', 'source': 'https://docs.smith.langchain.com/', 'title': 'Get started with LangSmith | \\uf8ffü¶úÔ∏è\\uf8ffüõ†Ô∏è LangSmith'}, page_content='\\n\\n\\n\\n\\nGet started with LangSmith | \\uf8ffü¶úÔ∏è\\uf8ffüõ†Ô∏è LangSmith\\n\\n\\n\\n\\n\\n\\nSkip to main contentGo to API DocsSearchRegionUSEUGo to AppQuick StartObservabilityEvaluationPrompt EngineeringDeployment (LangGraph Cloud)AdministrationSelf-hostingReferenceQuick StartOn this pageGet started with LangSmith\\nLangSmith is a platform for building production-grade LLM applications. It allows you to closely monitor and evaluate your application, so you can ship quickly and with confidence. Use of LangChain\\'s open source frameworks is not necessary - LangSmith works on its own!\\n1. Install LangSmith‚Äã\\nPythonTypeScriptpip install -U langsmith openaiyarn add langsmith openai\\n2. Create an API key‚Äã\\nTo create an API key head to the Settings page. Then click Create API Key.\\n3. Set up your environment‚Äã\\nShellexport LANGCHAIN_TRACING_V2=trueexport LANGCHAIN_API_KEY=<your-api-key># The below examples use the OpenAI API, though it\\'s not necessary in generalexport OPENAI_API_KEY=<your-openai-api-key>\\n4. Log your first trace‚Äã\\nLangSmith + LangChain OSSYou don\\'t need to use the LangSmith SDK directly if your application is built on LangChain/LangGraph (either Python and JS).See the how-to guide for tracing with LangChain here.\\nWe provide multiple ways to log traces to LangSmith. Below, we\\'ll highlight\\nhow to use traceable(). See more on the Annotate code for tracing page.\\nPythonTypeScriptimport openaifrom langsmith.wrappers import wrap_openaifrom langsmith import traceable# Auto-trace LLM calls in-contextclient = wrap_openai(openai.Client())@traceable # Auto-trace this functiondef pipeline(user_input: str):    result = client.chat.completions.create(        messages=[{\"role\": \"user\", \"content\": user_input}],        model=\"gpt-4o-mini\"    )    return result.choices[0].message.contentpipeline(\"Hello, world!\")# Out:  Hello there! How can I assist you today?import { OpenAI } from \"openai\";import { traceable } from \"langsmith/traceable\";import { wrapOpenAI } from \"langsmith/wrappers\";// Auto-trace LLM calls in-contextconst client = wrapOpenAI(new OpenAI());// Auto-trace this functionconst pipeline = traceable(async (user_input) => {    const result = await client.chat.completions.create({        messages: [{ role: \"user\", content: user_input }],        model: \"gpt-4o-mini\",    });    return result.choices[0].message.content;});await pipeline(\"Hello, world!\")// Out: Hello there! How can I assist you today?\\n\\nView a sample output trace.\\nLearn more about tracing in the observability tutorials, conceptual guide and how-to guides.\\n\\n5. Run your first evaluation‚Äã\\nEvaluation requires a system to test, data to serve as test cases, and optionally evaluators to grade the results. Here we use a built-in accuracy evaluator.\\nPythonTypeScriptfrom langsmith import Client, evaluateclient = Client()# Define dataset: these are your test casesdataset_name = \"Sample Dataset\"dataset = client.create_dataset(dataset_name, description=\"A sample dataset in LangSmith.\")client.create_examples(  inputs=[      {\"postfix\": \"to LangSmith\"},      {\"postfix\": \"to Evaluations in LangSmith\"},  ],  outputs=[      {\"output\": \"Welcome to LangSmith\"},      {\"output\": \"Welcome to Evaluations in LangSmith\"},  ],  dataset_id=dataset.id,)# Define your evaluatordef exact_match(run, example):  return {\"score\": run.outputs[\"output\"] == example.outputs[\"output\"]}experiment_results = evaluate(  lambda input: \"Welcome \" + input[\\'postfix\\'], # Your AI system goes here  data=dataset_name, # The data to predict and grade over  evaluators=[exact_match], # The evaluators to score the results  experiment_prefix=\"sample-experiment\", # The name of the experiment  metadata={    \"version\": \"1.0.0\",    \"revision_id\": \"beta\"  },)import { Client, Run, Example } from \"langsmith\";import { EvaluationResult, evaluate } from \"langsmith/evaluation\";const client = new Client();// Define dataset: these are your test casesconst datasetName = \"Sample Dataset\";const dataset = await client.createDataset(datasetName, {  description: \"A sample dataset in LangSmith.\",});await client.createExamples({  inputs: [    { postfix: \"to LangSmith\" },    { postfix: \"to Evaluations in LangSmith\" },  ],  outputs: [    { output: \"Welcome to LangSmith\" },    { output: \"Welcome to Evaluations in LangSmith\" },  ],  datasetId: dataset.id,});// Define your evaluatorconst exactMatch = async (  run: Run,  example: Example): Promise<EvaluationResult> => {  return {    key: \"exact_match\",    score: run.outputs?.output === example?.outputs?.output,  };};await evaluate(  (input: { postfix: string }) => ({ output: `Welcome ${input.postfix}` }),  {    data: datasetName,    evaluators: [exactMatch],    metadata: {      version: \"1.0.0\",      revision_id: \"beta\",    },  });\\n\\nClick the link printed out by your evaluation run to access the LangSmith experiments UI,\\nand explore the results of your evaluation.\\nLearn more about evaluation in the tutorials, conceptual guide, and how-to guides.\\nWas this page helpful?You can leave detailed feedback on GitHub.NextConcepts1. Install LangSmith2. Create an API key3. Set up your environment4. Log your first trace5. Run your first evaluationCommunityDiscordTwitterGitHubDocs CodeLangSmith SDKPythonJS/TSMoreHomepageBlogLangChain Python DocsLangChain JS/TS DocsCopyright ¬© 2024 LangChain, Inc.\\n\\n'),\n",
       " Document(id='0b214376475840de829bcb6a3b1e1608', metadata={'language': 'en', 'source': 'https://inference-docs.cerebras.ai/quickstart', 'title': 'QuickStart - Cerebras Inference'}, page_content='QuickStart - Cerebras InferenceCerebras Inference home pageSearch or ask...Search...NavigationGet StartedQuickStartDocumentationAPI ReferenceCerebras Inference home pageAboutCommunityBlogPython SDKNode.js SDKGet StartedOverviewQuickStartCapabilitiesStreaming ResponsesTool UseResourcesIntegrationsExamplesOpenAI CompatibilityAI Agent BootcampIntroduction to AI AgentsTool Use and Function CallingSupportError CodesRelease NotesGet StartedQuickStartThis QuickStart guide is designed to assist you in making your first API call. If you are an experienced AI applications developer, you may find it more beneficial to go directly to the API reference documentation.\\nIf you would like to interact with the models using Cerebras’ Inference solution before making an API call, please visit the developer playground.\\nThis guide will walk you through:\\n\\nSetting up your developer environment\\nInstalling the Cerebras Inference library\\nMaking your first request to the Cerebras API\\n\\n\\u200bPrerequisites\\nTo complete this guide, you will need:\\n\\nA Cerebras account\\nA Cerebras Inference API key\\nPython 3.7+ or TypeScript 4.5+\\n\\n\\u200bStep 1: Set up your API key\\nThe first thing you will need is a valid API key. Please visit this link and navigate to “API Keys” on the left nav bar.\\nFor security reasons and to avoid configuring your API key each time, it is recommended to set your API key as an environment variable. You can do this by running the following command in your terminal:\\nexport CEREBRAS_API_KEY=\"your-api-key-here\"\\n\\n\\u200bStep 2: Install the Cerebras Inference library\\nThe Cerebras Inference library is available for download and installation through the Python Package Index (PyPI) and the npm package manager. To install the library run either of the following commands in your terminal, based on your language of choice:\\nNote: You can also call the underlying API directly (see cURL request example below in Step 3).\\n\\n\\u200bStep 3: Making an API request\\nIf your request is being blocked by CloudFront, ensure that User-Agent is included in your headers\\nOnce you have configured your API key, you are ready to send your first API request.\\nThe following code snippets demonstrate how to make an API request to the Cerebras API to perform a chat completion.\\n\\n\\u200bNext Steps\\n\\nVisit our repositories for our Python and Node.js libraries\\nCheck out our API Reference to learn about the details of our available endpoints and request parameters.\\nLearn how to stream responses.\\nLearn about tool use.\\nWas this page helpful?YesNoOverviewStreaming ResponsesPowered by MintlifyOn this pagePrerequisitesStep 1: Set up your API keyStep 2: Install the Cerebras Inference libraryStep 3: Making an API requestNext Steps'),\n",
       " Document(id='3b43e8aa9734457196f09ade4ec8a332', metadata={'description': 'Build language agents as graphs', 'language': 'en', 'source': 'https://langchain-ai.github.io/langgraph/concepts/langgraph_studio/', 'title': 'LangGraph Studio'}, page_content='\\n\\n\\n\\n\\n\\n\\n\\n\\n\\n\\n\\nLangGraph Studio\\n\\n\\n\\n\\n\\n\\n\\n\\n\\n\\n\\n\\n\\n\\n\\n          Skip to content\\n        \\n\\n\\n\\n\\n\\n\\n\\n\\n\\n\\n\\n\\n\\n\\n\\n\\n\\n\\n\\n\\n            \\n              LangGraph Studio\\n            \\n          \\n\\n\\n\\n\\n\\n\\n\\n\\n\\n\\n\\n\\n\\n\\n\\n\\n\\n\\n\\n\\n\\n\\n\\n\\n\\n\\n\\n\\n\\n\\n\\n\\n\\n\\n\\n\\n\\n\\n\\n\\n            Initializing search\\n          \\n\\n\\n\\n\\n\\n\\n\\n\\n\\n\\n\\n\\n    GitHub\\n  \\n\\n\\n\\n\\n\\n\\n\\n\\n        \\n  \\n    \\n  \\n  Home\\n\\n      \\n\\n\\n\\n          \\n  \\n    \\n  \\n  Tutorials\\n\\n        \\n\\n\\n\\n          \\n  \\n    \\n  \\n  How-to Guides\\n\\n        \\n\\n\\n\\n          \\n  \\n    \\n  \\n  Conceptual Guides\\n\\n        \\n\\n\\n\\n          \\n  \\n    \\n  \\n  Reference\\n\\n        \\n\\n\\n\\n\\n\\n\\n\\n\\n\\n\\n\\n\\n\\n\\n\\n\\n\\n\\n\\n\\n\\n\\n\\n\\n    GitHub\\n  \\n\\n\\n\\n\\n\\n\\n    \\n  \\n    Home\\n  \\n\\n    \\n  \\n\\n\\n\\n\\n\\n    \\n  \\n    Tutorials\\n  \\n\\n    \\n  \\n\\n\\n\\n\\n\\n\\n    \\n  \\n    How-to Guides\\n  \\n\\n    \\n  \\n\\n\\n\\n\\n\\n\\n\\n\\n    \\n  \\n    Conceptual Guides\\n  \\n\\n    \\n  \\n\\n\\n\\n\\n\\n\\n\\n\\n            \\n  \\n    Conceptual Guides\\n  \\n\\n          \\n\\n\\n\\n\\n\\n    \\n  \\n    LangGraph\\n  \\n\\n    \\n  \\n\\n\\n\\n\\n\\n            \\n  \\n    LangGraph\\n  \\n\\n          \\n\\n\\n\\n\\n    \\n  \\n    LangGraph\\n  \\n\\n    \\n  \\n\\n\\n\\n\\n\\n    \\n  \\n    Why LangGraph?\\n  \\n\\n    \\n  \\n\\n\\n\\n\\n\\n    \\n  \\n    LangGraph Glossary\\n  \\n\\n    \\n  \\n\\n\\n\\n\\n\\n    \\n  \\n    Agent architectures\\n  \\n\\n    \\n  \\n\\n\\n\\n\\n\\n    \\n  \\n    Multi-agent Systems\\n  \\n\\n    \\n  \\n\\n\\n\\n\\n\\n    \\n  \\n    Human-in-the-loop\\n  \\n\\n    \\n  \\n\\n\\n\\n\\n\\n    \\n  \\n    Persistence\\n  \\n\\n    \\n  \\n\\n\\n\\n\\n\\n    \\n  \\n    Memory\\n  \\n\\n    \\n  \\n\\n\\n\\n\\n\\n    \\n  \\n    Streaming\\n  \\n\\n    \\n  \\n\\n\\n\\n\\n\\n    \\n  \\n    FAQ\\n  \\n\\n    \\n  \\n\\n\\n\\n\\n\\n\\n\\n\\n\\n    \\n  \\n    LangGraph Platform\\n  \\n\\n    \\n  \\n\\n\\n\\n\\n\\n            \\n  \\n    LangGraph Platform\\n  \\n\\n          \\n\\n\\n\\n\\n    \\n  \\n    LangGraph Platform\\n  \\n\\n    \\n  \\n\\n\\n\\n\\n\\n    \\n  \\n    High Level\\n  \\n\\n    \\n  \\n\\n\\n\\n\\n\\n\\n\\n    \\n  \\n    Components\\n  \\n\\n    \\n  \\n\\n\\n\\n\\n\\n            \\n  \\n    Components\\n  \\n\\n          \\n\\n\\n\\n\\n    \\n  \\n    Components\\n  \\n\\n    \\n  \\n\\n\\n\\n\\n\\n    \\n  \\n    LangGraph Server\\n  \\n\\n    \\n  \\n\\n\\n\\n\\n\\n\\n    \\n  \\n    LangGraph Studio\\n  \\n\\n    \\n  \\n\\n\\n\\n\\n    \\n  \\n    LangGraph Studio\\n  \\n\\n    \\n  \\n\\n\\n\\n\\n      Table of contents\\n    \\n\\n\\n\\n\\n      \\n        Features\\n      \\n    \\n\\n\\n\\n\\n\\n      \\n        Types\\n      \\n    \\n\\n\\n\\n\\n\\n\\n      \\n        Desktop app\\n      \\n    \\n\\n\\n\\n\\n\\n      \\n        Cloud studio\\n      \\n    \\n\\n\\n\\n\\n\\n      \\n        Development server\\n      \\n    \\n\\n\\n\\n\\n\\n\\n\\n\\n      \\n        Studio FAQs\\n      \\n    \\n\\n\\n\\n\\n\\n\\n      \\n        Why is my project failing to start?\\n      \\n    \\n\\n\\n\\n\\n\\n\\n      \\n        Docker issues (desktop only)\\n      \\n    \\n\\n\\n\\n\\n\\n      \\n        Configuration or environment issues\\n      \\n    \\n\\n\\n\\n\\n\\n\\n\\n\\n      \\n        How does interrupt work?\\n      \\n    \\n\\n\\n\\n\\n\\n      \\n        How do I reload the app? (desktop only)\\n      \\n    \\n\\n\\n\\n\\n\\n      \\n        How does automatic rebuilding work? (desktop only)\\n      \\n    \\n\\n\\n\\n\\n\\n\\n      \\n        Rebuilds from source code changes\\n      \\n    \\n\\n\\n\\n\\n\\n      \\n        Rebuilds from configuration or dependency changes\\n      \\n    \\n\\n\\n\\n\\n\\n\\n\\n\\n      \\n        Why is my graph taking so long to startup? (desktop only)\\n      \\n    \\n\\n\\n\\n\\n\\n\\n\\n\\n      \\n        Why are extra edges showing up in my graph?\\n      \\n    \\n\\n\\n\\n\\n\\n\\n      \\n        Solution 1: Include a path map\\n      \\n    \\n\\n\\n\\n\\n\\n      \\n        Solution 2: Update the typing of the router (Python only)\\n      \\n    \\n\\n\\n\\n\\n\\n\\n\\n\\n      \\n        Related\\n      \\n    \\n\\n\\n\\n\\n\\n\\n\\n\\n    \\n  \\n    LangGraph CLI\\n  \\n\\n    \\n  \\n\\n\\n\\n\\n\\n    \\n  \\n    LangGraph SDK\\n  \\n\\n    \\n  \\n\\n\\n\\n\\n\\n    \\n  \\n    How to interact with the deployment using RemoteGraph\\n  \\n\\n    \\n  \\n\\n\\n\\n\\n\\n\\n\\n\\n    \\n  \\n    LangGraph Server\\n  \\n\\n    \\n  \\n\\n\\n\\n\\n\\n\\n    \\n  \\n    Deployment Options\\n  \\n\\n    \\n  \\n\\n\\n\\n\\n\\n\\n\\n\\n\\n\\n\\n\\n    \\n  \\n    Reference\\n  \\n\\n    \\n  \\n\\n\\n\\n\\n\\n\\n\\n\\n\\n\\n\\n\\n\\n\\n      Table of contents\\n    \\n\\n\\n\\n\\n      \\n        Features\\n      \\n    \\n\\n\\n\\n\\n\\n      \\n        Types\\n      \\n    \\n\\n\\n\\n\\n\\n\\n      \\n        Desktop app\\n      \\n    \\n\\n\\n\\n\\n\\n      \\n        Cloud studio\\n      \\n    \\n\\n\\n\\n\\n\\n      \\n        Development server\\n      \\n    \\n\\n\\n\\n\\n\\n\\n\\n\\n      \\n        Studio FAQs\\n      \\n    \\n\\n\\n\\n\\n\\n\\n      \\n        Why is my project failing to start?\\n      \\n    \\n\\n\\n\\n\\n\\n\\n      \\n        Docker issues (desktop only)\\n      \\n    \\n\\n\\n\\n\\n\\n      \\n        Configuration or environment issues\\n      \\n    \\n\\n\\n\\n\\n\\n\\n\\n\\n      \\n        How does interrupt work?\\n      \\n    \\n\\n\\n\\n\\n\\n      \\n        How do I reload the app? (desktop only)\\n      \\n    \\n\\n\\n\\n\\n\\n      \\n        How does automatic rebuilding work? (desktop only)\\n      \\n    \\n\\n\\n\\n\\n\\n\\n      \\n        Rebuilds from source code changes\\n      \\n    \\n\\n\\n\\n\\n\\n      \\n        Rebuilds from configuration or dependency changes\\n      \\n    \\n\\n\\n\\n\\n\\n\\n\\n\\n      \\n        Why is my graph taking so long to startup? (desktop only)\\n      \\n    \\n\\n\\n\\n\\n\\n\\n\\n\\n      \\n        Why are extra edges showing up in my graph?\\n      \\n    \\n\\n\\n\\n\\n\\n\\n      \\n        Solution 1: Include a path map\\n      \\n    \\n\\n\\n\\n\\n\\n      \\n        Solution 2: Update the typing of the router (Python only)\\n      \\n    \\n\\n\\n\\n\\n\\n\\n\\n\\n      \\n        Related\\n      \\n    \\n\\n\\n\\n\\n\\n\\n\\n\\n\\n\\n\\n\\n\\n    Home\\n  \\n\\n\\n\\n\\n\\n    Conceptual Guides\\n  \\n\\n\\n\\n\\n\\n    LangGraph Platform\\n  \\n\\n\\n\\n\\n\\n    Components\\n  \\n\\n\\n\\n\\n\\n\\n\\nLangGraph Studio¶\\n\\nPrerequisites\\n\\nLangGraph Platform\\nLangGraph Server\\n\\n\\nLangGraph Studio offers a new way to develop LLM applications by providing a specialized agent IDE that enables visualization, interaction, and debugging of complex agentic applications.\\nWith visual graphs and the ability to edit state, you can better understand agent workflows and iterate faster. LangGraph Studio integrates with LangSmith allowing you to  collaborate with teammates to debug failure modes.\\n\\nFeatures¶\\nThe key features of LangGraph Studio are:\\n\\nVisualizes your graph\\nTest your graph by running it from the UI\\nDebug your agent by modifying its state and rerunning\\nCreate and manage assistants\\nView and manage threads\\nView and manage long term memory\\nAdd node input/outputs to LangSmith datasets for testing\\n\\nTypes¶\\nDesktop app¶\\nLangGraph Studio is available as a desktop app for MacOS users.\\nWhile in Beta, LangGraph Studio is available for free to all LangSmith users on any plan tier.\\nCloud studio¶\\nIf you have deployed your LangGraph application on LangGraph Platform (Cloud), you can access the studio as part of that\\nDevelopment server¶\\nLangGraph CLI also contains a command for running an in-memory development server that can be used to connect a local LangGraph app with the studio.\\nSee instructions here for more information.\\nThe way this works is that it runs inside your local environment.\\nIt will spin up an in-memory, development server to deploy the graph.\\nYou can then connect to the studio via the Cloud hosted version of LangGraph Platform.\\nTo be clear, the web studio will connect to your locally running server - your agent is still running locally and never leaves your device.\\nStudio FAQs¶\\nWhy is my project failing to start?¶\\nThere are a few reasons that your project might fail to start, here are some of the most common ones.\\nDocker issues (desktop only)¶\\nLangGraph Studio (desktop) requires Docker Desktop version 4.24 or higher. Please make sure you have a version of Docker installed that satisfies that requirement and also make sure you have the Docker Desktop app up and running before trying to use LangGraph Studio. In addition, make sure you have docker-compose updated to version 2.22.0 or higher.\\nConfiguration or environment issues¶\\nAnother reason your project might fail to start is because your configuration file is defined incorrectly, or you are missing required environment variables. \\nHow does interrupt work?¶\\nWhen you select the Interrupts dropdown and select a node to interrupt the graph will pause execution before and after (unless the node goes straight to END) that node has run. This means that you will be able to both edit the state before the node is ran and the state after the node has ran. This is intended to allow developers more fine-grained control over the behavior of a node and make it easier to observe how the node is behaving. You will not be able to edit the state after the node has ran if the node is the final node in the graph.\\nHow do I reload the app?  (desktop only)¶\\nIf you would like to reload the app, don\\'t use Command+R as you might normally do. Instead, close and reopen the app for a full refresh.\\nHow does automatic rebuilding work?  (desktop only)¶\\nOne of the key features of LangGraph Studio is that it automatically rebuilds your image when you change the source code. This allows for a super fast development and testing cycle which makes it easy to iterate on your graph. There are two different ways that LangGraph rebuilds your image: either by editing the image or completely rebuilding it.\\nRebuilds from source code changes¶\\nIf you modified the source code only (no configuration or dependency changes!) then the image does not require a full rebuild, and LangGraph Studio will only update the relevant parts. The UI status in the bottom left will switch from Online to Stopping temporarily while the image gets edited. The logs will be shown as this process is happening, and after the image has been edited the status will change back to Online and you will be able to run your graph with the modified code!\\nRebuilds from configuration or dependency changes¶\\nIf you edit your graph configuration file (langgraph.json) or the dependencies (either pyproject.toml or requirements.txt) then the entire image will be rebuilt. This will cause the UI to switch away from the graph view and start showing the logs of the new image building process. This can take a minute or two, and once it is done your updated image will be ready to use!\\nWhy is my graph taking so long to startup?  (desktop only)¶\\nThe LangGraph Studio interacts with a local LangGraph API server. To stay aligned with ongoing updates, the LangGraph API requires regular rebuilding. As a result, you may occasionally experience slight delays when starting up your project.\\nWhy are extra edges showing up in my graph?¶\\nIf you don\\'t define your conditional edges carefully, you might notice extra edges appearing in your graph. This is because without proper definition, LangGraph Studio assumes the conditional edge could access all other nodes. In order for this to not be the case, you need to be explicit about how you define the nodes the conditional edge routes to. There are two ways you can do this:\\nSolution 1: Include a path map¶\\nThe first way to solve this is to add path maps to your conditional edges. A path map is just a dictionary or array that maps the possible outputs of your router function with the names of the nodes that each output corresponds to. The path map is passed as the third argument to the add_conditional_edges function like so:\\nPythonJavascript\\n\\n\\ngraph.add_conditional_edges(\"node_a\", routing_function, {True: \"node_b\", False: \"node_c\"})\\n\\n\\n\\ngraph.addConditionalEdges(\"node_a\", routingFunction, { true: \"node_b\", false: \"node_c\" });\\n\\n\\n\\n\\nIn this case, the routing function returns either True or False, which map to node_b and node_c respectively.\\nSolution 2: Update the typing of the router (Python only)¶\\nInstead of passing a path map, you can also be explicit about the typing of your routing function by specifying the nodes it can map to using the Literal python definition. Here is an example of how to define a routing function in that way:\\ndef routing_function(state: GraphState) -> Literal[\"node_b\",\"node_c\"]:\\n    if state[\\'some_condition\\'] == True:\\n        return \"node_b\"\\n    else:\\n        return \"node_c\"\\n\\nRelated¶\\nFor more information please see the following:\\n\\nLangGraph Studio how-to guides\\n\\nComments\\n\\n\\n\\n\\n\\n\\n\\n\\n\\n\\n  Back to top\\n\\n\\n\\n\\n\\n\\n\\n\\n\\n\\n                Previous\\n              \\n\\n                LangGraph Server\\n              \\n\\n\\n\\n\\n\\n                Next\\n              \\n\\n                LangGraph CLI\\n              \\n\\n\\n\\n\\n\\n\\n\\n\\n\\n  \\n  \\n    Made with\\n    \\n      Material for MkDocs Insiders\\n    \\n\\n\\n\\n\\n\\n\\n\\n\\n\\n\\n\\n\\n\\n\\n\\n\\n\\n\\n\\n\\n\\n\\n\\n')]"
      ]
     },
     "execution_count": 15,
     "metadata": {},
     "output_type": "execute_result"
    }
   ],
   "source": [
    "from IPython.display import Markdown\n",
    "retriever = astra_vector_store.as_retriever()\n",
    "response = retriever.invoke(\"What is an agent?\")\n",
    "response"
   ]
  },
  {
   "cell_type": "code",
   "execution_count": 16,
   "metadata": {},
   "outputs": [],
   "source": [
    "from typing import Literal\n",
    "from langchain_core.prompts import ChatPromptTemplate\n",
    "from langchain_core.pydantic_v1 import BaseModel,Field\n",
    "\n",
    "class RouteQuery(BaseModel):\n",
    "    datasource: Literal[\"vectorstore\",\"wiki_search\"] = Field(\n",
    "        ...,\n",
    "        description=\"Given a user question choose to route it to wikipedia or vectorstore.\"\n",
    "    )"
   ]
  },
  {
   "cell_type": "code",
   "execution_count": 17,
   "metadata": {},
   "outputs": [],
   "source": [
    "from langchain_groq import ChatGroq\n",
    "from dotenv import load_dotenv\n",
    "load_dotenv()\n",
    "import os\n",
    "groq_api_key = os.getenv(\"GROQ_API_KEY\") \n",
    "llm = ChatGroq(model_name = \"llama3-groq-70b-8192-tool-use-preview\",api_key=groq_api_key)"
   ]
  },
  {
   "cell_type": "code",
   "execution_count": 18,
   "metadata": {},
   "outputs": [],
   "source": [
    "structured_llm_router = llm.with_structured_output(RouteQuery)"
   ]
  },
  {
   "cell_type": "code",
   "execution_count": 21,
   "metadata": {},
   "outputs": [],
   "source": [
    "system = \"\"\"You are an expert at routing a user question to a vectorstore or wikipedia.The vectorstore contains documents related to langgraph,cerebras and langsmith.Use the vectorstore for questions on these topics.Otherwise , use wiki search\n",
    "\"\"\"\n",
    "\n",
    "route_prompt = ChatPromptTemplate.from_messages(\n",
    "    [\n",
    "        (\"system\",system),\n",
    "        (\"human\",\"{question}\"),\n",
    "    ]\n",
    ")\n",
    "question_router = route_prompt | structured_llm_router"
   ]
  },
  {
   "cell_type": "code",
   "execution_count": null,
   "metadata": {},
   "outputs": [],
   "source": [
    "response_1 = question_router.invoke(\n",
    "    {\n",
    "        \"question\" : \"What is langgraph?\"\n",
    "    }\n",
    ")"
   ]
  },
  {
   "cell_type": "code",
   "execution_count": null,
   "metadata": {},
   "outputs": [
    {
     "data": {
      "text/plain": [
       "RouteQuery(datasource='vectorstore')"
      ]
     },
     "execution_count": 23,
     "metadata": {},
     "output_type": "execute_result"
    }
   ],
   "source": [
    "response_1"
   ]
  },
  {
   "cell_type": "code",
   "execution_count": 24,
   "metadata": {},
   "outputs": [
    {
     "data": {
      "text/plain": [
       "RouteQuery(datasource='wiki_search')"
      ]
     },
     "execution_count": 24,
     "metadata": {},
     "output_type": "execute_result"
    }
   ],
   "source": [
    "response_2 = question_router.invoke(\n",
    "    {\n",
    "        \"question\":\"Who is gautam adani\"\n",
    "    }\n",
    ")\n",
    "response_2"
   ]
  },
  {
   "cell_type": "markdown",
   "metadata": {},
   "source": [
    "# Importing wikipedia tools"
   ]
  },
  {
   "cell_type": "code",
   "execution_count": 26,
   "metadata": {},
   "outputs": [],
   "source": [
    "from langchain_community.utilities import WikipediaAPIWrapper\n",
    "from langchain_community.tools import  WikipediaQueryRun\n",
    "\n",
    "api_wrapper = WikipediaAPIWrapper(top_k_results=1,doc_content_chars_max=200)\n",
    "wiki_tool = WikipediaQueryRun(api_wrapper=api_wrapper)\n"
   ]
  },
  {
   "cell_type": "markdown",
   "metadata": {},
   "source": [
    "# now the agentic workflow using langgraph"
   ]
  },
  {
   "cell_type": "code",
   "execution_count": 27,
   "metadata": {},
   "outputs": [],
   "source": [
    "from typing import List\n",
    "from typing_extensions import TypedDict\n",
    "\n",
    "class GraphState(TypedDict):\n",
    "    \"\"\" \n",
    "    Represents the state of our graph\n",
    "\n",
    "    Attributes:\n",
    "    question:question\n",
    "    generation: LLM Generation\n",
    "    documents:list of documents\n",
    "    \"\"\"\n",
    "    question:str\n",
    "    generation:str\n",
    "    documents:List[str]"
   ]
  },
  {
   "cell_type": "code",
   "execution_count": 29,
   "metadata": {},
   "outputs": [],
   "source": [
    "from langchain.schema import Document\n",
    "\n",
    "def retrieve(state):\n",
    "    \"\"\" \n",
    "    Retrieve documents\n",
    "\n",
    "    Args:\n",
    "      state (dict): The state of the task.\n",
    "    Returns:\n",
    "      state(dict): new key added to state,documents,that contains retrieved documents\n",
    "      \"\"\"\n",
    "    print(\"----Retrieve----\")\n",
    "    question = state[\"question\"]\n",
    "    documents = retriever.invoke(question)\n",
    "    return {\"documents\": documents,\"question\":question}\n",
    "    "
   ]
  },
  {
   "cell_type": "code",
   "execution_count": 31,
   "metadata": {},
   "outputs": [],
   "source": [
    "from langchain.schema import Document\n",
    "\n",
    "def wiki_search(state):\n",
    "    \"\"\" \n",
    "    wiki search based on the re-phrased question\n",
    "\n",
    "    Args:\n",
    "      state (dict): The state of the task.\n",
    "    Returns:\n",
    "      state(dict): Updated documents key with appended web results\n",
    "      \"\"\"\n",
    "    \n",
    "    print(\"----wikipedia----\")\n",
    "    question = state[\"question\"]\n",
    "    print(question)\n",
    "    docs = wiki_tool.invoke({\"query\":question})\n",
    "    wiki_results = docs\n",
    "    wiki_results = Document(page_content=wiki_results)\n",
    "\n",
    "    return {\"documents\":wiki_results,\"question\":question}\n",
    "    "
   ]
  },
  {
   "cell_type": "code",
   "execution_count": 32,
   "metadata": {},
   "outputs": [],
   "source": [
    "def route_question(state):\n",
    "    \"\"\" \n",
    "    Route question to wiki search or RAG\n",
    "\n",
    "    Args:\n",
    "    state(dict): The current graph state \n",
    "\n",
    "    Returns:\n",
    "    str:Next node to call\n",
    "    \"\"\"\n",
    "    print(\"---ROUTE QUESTION---\")\n",
    "    question = state[\"question\"]\n",
    "    source = question_router.invoke({\"question\":question})\n",
    "    if source.datasource == \"wiki_search\":\n",
    "        print(\"---ROUTE QUESTION TO WIKI SEARCH---\")\n",
    "        return \"wiki_search\"\n",
    "    elif source.datasource == \"vectorstore\":\n",
    "        print(\"---ROUTE QUESTION TO RAG---\")\n",
    "        return \"vectorstore\"\n",
    "\n"
   ]
  },
  {
   "cell_type": "code",
   "execution_count": 33,
   "metadata": {},
   "outputs": [],
   "source": [
    "from langgraph.graph import END,StateGraph,START\n",
    "\n",
    "workflow = StateGraph(GraphState)\n",
    "\n",
    "workflow.add_node(\"wiki_search\",wiki_search)\n",
    "workflow.add_node(\"retrieve\",retrieve)\n",
    "workflow.add_conditional_edges(\n",
    "    START,\n",
    "    route_question,\n",
    "    {\n",
    "        \"wiki_search\":\"wiki_search\",\n",
    "        \"vectorstore\":\"retrieve\"\n",
    "        }\n",
    ")\n",
    "workflow.add_edge(\"retrieve\",END)\n",
    "workflow.add_edge(\"wiki_search\",END)\n",
    "\n",
    "app = workflow.compile()"
   ]
  },
  {
   "cell_type": "code",
   "execution_count": 35,
   "metadata": {},
   "outputs": [
    {
     "data": {
      "image/png": "[encoded data removed]",
      "text/plain": [
       "<IPython.core.display.Image object>"
      ]
     },
     "metadata": {},
     "output_type": "display_data"
    }
   ],
   "source": [
    "from IPython.display import Image,display\n",
    "\n",
    "try:\n",
    "    display(Image(app.get_graph().draw_mermaid_png()))\n",
    "except Exception as e:\n",
    "    print(\"The exception raised is \",e)"
   ]
  },
  {
   "cell_type": "code",
   "execution_count": 45,
   "metadata": {},
   "outputs": [
    {
     "name": "stdout",
     "output_type": "stream",
     "text": [
      "---ROUTE QUESTION---\n",
      "---ROUTE QUESTION TO WIKI SEARCH---\n",
      "----wikipedia----\n",
      "who is saurav gangully?\n",
      "{'wiki_search': {'documents': Document(metadata={}, page_content='Page: Sourav Ganguly\\nSummary: Sourav Chandidas Ganguly ( ; natively spelled as Gangopadhyay; born 8 July 1972), also known as Dada (meaning \"elder brother\" in Bengali), is an Indian cricket commentato'),\n",
      "                 'question': 'who is saurav gangully?'}}\n",
      "\"Node 'wiki_search':\"\n"
     ]
    },
    {
     "ename": "TypeError",
     "evalue": "object of type 'Document' has no len()",
     "output_type": "error",
     "traceback": [
      "\u001b[1;31m---------------------------------------------------------------------------\u001b[0m",
      "\u001b[1;31mTypeError\u001b[0m                                 Traceback (most recent call last)",
      "Cell \u001b[1;32mIn[45], line 12\u001b[0m\n\u001b[0;32m     10\u001b[0m \u001b[38;5;28;01mfor\u001b[39;00m key, value \u001b[38;5;129;01min\u001b[39;00m output\u001b[38;5;241m.\u001b[39mitems():\n\u001b[0;32m     11\u001b[0m     pprint(\u001b[38;5;124mf\u001b[39m\u001b[38;5;124m\"\u001b[39m\u001b[38;5;124mNode \u001b[39m\u001b[38;5;124m'\u001b[39m\u001b[38;5;132;01m{\u001b[39;00mkey\u001b[38;5;132;01m}\u001b[39;00m\u001b[38;5;124m'\u001b[39m\u001b[38;5;124m:\u001b[39m\u001b[38;5;124m\"\u001b[39m)\n\u001b[1;32m---> 12\u001b[0m     \u001b[38;5;28;01mif\u001b[39;00m \u001b[38;5;124m'\u001b[39m\u001b[38;5;124mdocuments\u001b[39m\u001b[38;5;124m'\u001b[39m \u001b[38;5;129;01min\u001b[39;00m value \u001b[38;5;129;01mand\u001b[39;00m \u001b[38;5;28;43mlen\u001b[39;49m\u001b[43m(\u001b[49m\u001b[43mvalue\u001b[49m\u001b[43m[\u001b[49m\u001b[38;5;124;43m'\u001b[39;49m\u001b[38;5;124;43mdocuments\u001b[39;49m\u001b[38;5;124;43m'\u001b[39;49m\u001b[43m]\u001b[49m\u001b[43m)\u001b[49m \u001b[38;5;241m>\u001b[39m \u001b[38;5;241m0\u001b[39m:\n\u001b[0;32m     13\u001b[0m         document \u001b[38;5;241m=\u001b[39m value[\u001b[38;5;124m'\u001b[39m\u001b[38;5;124mdocuments\u001b[39m\u001b[38;5;124m'\u001b[39m][\u001b[38;5;241m0\u001b[39m]\n\u001b[0;32m     14\u001b[0m         pprint(document\u001b[38;5;241m.\u001b[39mdict()\u001b[38;5;241m.\u001b[39mget(\u001b[38;5;124m'\u001b[39m\u001b[38;5;124mmetadata\u001b[39m\u001b[38;5;124m'\u001b[39m, {})\u001b[38;5;241m.\u001b[39mget(\u001b[38;5;124m'\u001b[39m\u001b[38;5;124mdescription\u001b[39m\u001b[38;5;124m'\u001b[39m, \u001b[38;5;124m'\u001b[39m\u001b[38;5;124mNo description available\u001b[39m\u001b[38;5;124m'\u001b[39m))\n",
      "\u001b[1;31mTypeError\u001b[0m: object of type 'Document' has no len()"
     ]
    }
   ],
   "source": [
    "from pprint import pprint\n",
    "\n",
    "inputs = {\n",
    "    \"question\": \"who is saurav gangully?\"\n",
    "}\n",
    "\n",
    "# Stream the output and print the full response\n",
    "for output in app.stream(inputs):\n",
    "    pprint(output)  # Print the entire response for debugging\n",
    "    for key, value in output.items():\n",
    "        pprint(f\"Node '{key}':\")\n",
    "        if 'documents' in value and len(value['documents']) > 0:\n",
    "            document = value['documents'][0]\n",
    "            pprint(document.dict().get('metadata', {}).get('description', 'No description available'))\n",
    "    pprint(\"\\n---\\n\")"
   ]
  },
  {
   "cell_type": "code",
   "execution_count": null,
   "metadata": {},
   "outputs": [],
   "source": []
  }
 ],
 "metadata": {
  "kernelspec": {
   "display_name": "LSTM",
   "language": "python",
   "name": "python3"
  },
  "language_info": {
   "codemirror_mode": {
    "name": "ipython",
    "version": 3
   },
   "file_extension": ".py",
   "mimetype": "text/x-python",
   "name": "python",
   "nbconvert_exporter": "python",
   "pygments_lexer": "ipython3",
   "version": "3.11.10"
  }
 },
 "nbformat": 4,
 "nbformat_minor": 2
}
