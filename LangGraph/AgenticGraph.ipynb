{
 "cells": [
  {
   "cell_type": "code",
   "execution_count": 1,
   "metadata": {
    "colab": {
     "base_uri": "https://localhost:8080/"
    },
    "id": "xta1ZBP2Ftu5",
    "outputId": "ceec67ee-4fc3-4172-9e6a-1bd81542dc1f"
   },
   "outputs": [],
   "source": [
    "!pip install -q -U LangGraph"
   ]
  },
  {
   "cell_type": "code",
   "execution_count": 2,
   "metadata": {
    "colab": {
     "base_uri": "https://localhost:8080/"
    },
    "id": "GtQxFjyiGPib",
    "outputId": "b63ae7c2-b041-47da-ae10-dafccbe7d925"
   },
   "outputs": [
    {
     "name": "stdout",
     "output_type": "stream",
     "text": [
      "Requirement already satisfied: langsmith in /usr/local/lib/python3.10/dist-packages (0.1.143)\n",
      "Requirement already satisfied: httpx<1,>=0.23.0 in /usr/local/lib/python3.10/dist-packages (from langsmith) (0.27.2)\n",
      "Requirement already satisfied: orjson<4.0.0,>=3.9.14 in /usr/local/lib/python3.10/dist-packages (from langsmith) (3.10.11)\n",
      "Requirement already satisfied: pydantic<3,>=1 in /usr/local/lib/python3.10/dist-packages (from langsmith) (2.9.2)\n",
      "Requirement already satisfied: requests<3,>=2 in /usr/local/lib/python3.10/dist-packages (from langsmith) (2.32.3)\n",
      "Requirement already satisfied: requests-toolbelt<2.0.0,>=1.0.0 in /usr/local/lib/python3.10/dist-packages (from langsmith) (1.0.0)\n",
      "Requirement already satisfied: anyio in /usr/local/lib/python3.10/dist-packages (from httpx<1,>=0.23.0->langsmith) (3.7.1)\n",
      "Requirement already satisfied: certifi in /usr/local/lib/python3.10/dist-packages (from httpx<1,>=0.23.0->langsmith) (2024.8.30)\n",
      "Requirement already satisfied: httpcore==1.* in /usr/local/lib/python3.10/dist-packages (from httpx<1,>=0.23.0->langsmith) (1.0.7)\n",
      "Requirement already satisfied: idna in /usr/local/lib/python3.10/dist-packages (from httpx<1,>=0.23.0->langsmith) (3.10)\n",
      "Requirement already satisfied: sniffio in /usr/local/lib/python3.10/dist-packages (from httpx<1,>=0.23.0->langsmith) (1.3.1)\n",
      "Requirement already satisfied: h11<0.15,>=0.13 in /usr/local/lib/python3.10/dist-packages (from httpcore==1.*->httpx<1,>=0.23.0->langsmith) (0.14.0)\n",
      "Requirement already satisfied: annotated-types>=0.6.0 in /usr/local/lib/python3.10/dist-packages (from pydantic<3,>=1->langsmith) (0.7.0)\n",
      "Requirement already satisfied: pydantic-core==2.23.4 in /usr/local/lib/python3.10/dist-packages (from pydantic<3,>=1->langsmith) (2.23.4)\n",
      "Requirement already satisfied: typing-extensions>=4.6.1 in /usr/local/lib/python3.10/dist-packages (from pydantic<3,>=1->langsmith) (4.12.2)\n",
      "Requirement already satisfied: charset-normalizer<4,>=2 in /usr/local/lib/python3.10/dist-packages (from requests<3,>=2->langsmith) (3.4.0)\n",
      "Requirement already satisfied: urllib3<3,>=1.21.1 in /usr/local/lib/python3.10/dist-packages (from requests<3,>=2->langsmith) (2.2.3)\n",
      "Requirement already satisfied: exceptiongroup in /usr/local/lib/python3.10/dist-packages (from anyio->httpx<1,>=0.23.0->langsmith) (1.2.2)\n"
     ]
    }
   ],
   "source": [
    "!pip install langsmith"
   ]
  },
  {
   "cell_type": "code",
   "execution_count": 3,
   "metadata": {
    "colab": {
     "base_uri": "https://localhost:8080/"
    },
    "id": "2rBtWB4iGuzR",
    "outputId": "4cf3d351-8c3c-435e-c4f8-b417dd7061dd"
   },
   "outputs": [
    {
     "name": "stdout",
     "output_type": "stream",
     "text": [
      "Collecting langchain_groq\n",
      "  Downloading langchain_groq-0.2.1-py3-none-any.whl.metadata (2.9 kB)\n",
      "Collecting langchain_community\n",
      "  Downloading langchain_community-0.3.9-py3-none-any.whl.metadata (2.9 kB)\n",
      "Collecting groq<1,>=0.4.1 (from langchain_groq)\n",
      "  Downloading groq-0.13.0-py3-none-any.whl.metadata (13 kB)\n",
      "Requirement already satisfied: langchain-core<0.4.0,>=0.3.15 in /usr/local/lib/python3.10/dist-packages (from langchain_groq) (0.3.19)\n",
      "Requirement already satisfied: PyYAML>=5.3 in /usr/local/lib/python3.10/dist-packages (from langchain_community) (6.0.2)\n",
      "Requirement already satisfied: SQLAlchemy<3,>=1.4 in /usr/local/lib/python3.10/dist-packages (from langchain_community) (2.0.36)\n",
      "Requirement already satisfied: aiohttp<4.0.0,>=3.8.3 in /usr/local/lib/python3.10/dist-packages (from langchain_community) (3.11.2)\n",
      "Collecting dataclasses-json<0.7,>=0.5.7 (from langchain_community)\n",
      "  Downloading dataclasses_json-0.6.7-py3-none-any.whl.metadata (25 kB)\n",
      "Requirement already satisfied: httpx-sse<0.5.0,>=0.4.0 in /usr/local/lib/python3.10/dist-packages (from langchain_community) (0.4.0)\n",
      "Collecting langchain<0.4.0,>=0.3.8 (from langchain_community)\n",
      "  Downloading langchain-0.3.9-py3-none-any.whl.metadata (7.1 kB)\n",
      "Collecting langchain-core<0.4.0,>=0.3.15 (from langchain_groq)\n",
      "  Downloading langchain_core-0.3.21-py3-none-any.whl.metadata (6.3 kB)\n",
      "Requirement already satisfied: langsmith<0.2.0,>=0.1.125 in /usr/local/lib/python3.10/dist-packages (from langchain_community) (0.1.143)\n",
      "Requirement already satisfied: numpy<2,>=1.22.4 in /usr/local/lib/python3.10/dist-packages (from langchain_community) (1.26.4)\n",
      "Collecting pydantic-settings<3.0.0,>=2.4.0 (from langchain_community)\n",
      "  Downloading pydantic_settings-2.6.1-py3-none-any.whl.metadata (3.5 kB)\n",
      "Requirement already satisfied: requests<3,>=2 in /usr/local/lib/python3.10/dist-packages (from langchain_community) (2.32.3)\n",
      "Requirement already satisfied: tenacity!=8.4.0,<10,>=8.1.0 in /usr/local/lib/python3.10/dist-packages (from langchain_community) (9.0.0)\n",
      "Requirement already satisfied: aiohappyeyeballs>=2.3.0 in /usr/local/lib/python3.10/dist-packages (from aiohttp<4.0.0,>=3.8.3->langchain_community) (2.4.3)\n",
      "Requirement already satisfied: aiosignal>=1.1.2 in /usr/local/lib/python3.10/dist-packages (from aiohttp<4.0.0,>=3.8.3->langchain_community) (1.3.1)\n",
      "Requirement already satisfied: attrs>=17.3.0 in /usr/local/lib/python3.10/dist-packages (from aiohttp<4.0.0,>=3.8.3->langchain_community) (24.2.0)\n",
      "Requirement already satisfied: frozenlist>=1.1.1 in /usr/local/lib/python3.10/dist-packages (from aiohttp<4.0.0,>=3.8.3->langchain_community) (1.5.0)\n",
      "Requirement already satisfied: multidict<7.0,>=4.5 in /usr/local/lib/python3.10/dist-packages (from aiohttp<4.0.0,>=3.8.3->langchain_community) (6.1.0)\n",
      "Requirement already satisfied: propcache>=0.2.0 in /usr/local/lib/python3.10/dist-packages (from aiohttp<4.0.0,>=3.8.3->langchain_community) (0.2.0)\n",
      "Requirement already satisfied: yarl<2.0,>=1.17.0 in /usr/local/lib/python3.10/dist-packages (from aiohttp<4.0.0,>=3.8.3->langchain_community) (1.17.2)\n",
      "Requirement already satisfied: async-timeout<6.0,>=4.0 in /usr/local/lib/python3.10/dist-packages (from aiohttp<4.0.0,>=3.8.3->langchain_community) (4.0.3)\n",
      "Collecting marshmallow<4.0.0,>=3.18.0 (from dataclasses-json<0.7,>=0.5.7->langchain_community)\n",
      "  Downloading marshmallow-3.23.1-py3-none-any.whl.metadata (7.5 kB)\n",
      "Collecting typing-inspect<1,>=0.4.0 (from dataclasses-json<0.7,>=0.5.7->langchain_community)\n",
      "  Downloading typing_inspect-0.9.0-py3-none-any.whl.metadata (1.5 kB)\n",
      "Requirement already satisfied: anyio<5,>=3.5.0 in /usr/local/lib/python3.10/dist-packages (from groq<1,>=0.4.1->langchain_groq) (3.7.1)\n",
      "Requirement already satisfied: distro<2,>=1.7.0 in /usr/local/lib/python3.10/dist-packages (from groq<1,>=0.4.1->langchain_groq) (1.9.0)\n",
      "Requirement already satisfied: httpx<1,>=0.23.0 in /usr/local/lib/python3.10/dist-packages (from groq<1,>=0.4.1->langchain_groq) (0.27.2)\n",
      "Requirement already satisfied: pydantic<3,>=1.9.0 in /usr/local/lib/python3.10/dist-packages (from groq<1,>=0.4.1->langchain_groq) (2.9.2)\n",
      "Requirement already satisfied: sniffio in /usr/local/lib/python3.10/dist-packages (from groq<1,>=0.4.1->langchain_groq) (1.3.1)\n",
      "Requirement already satisfied: typing-extensions<5,>=4.7 in /usr/local/lib/python3.10/dist-packages (from groq<1,>=0.4.1->langchain_groq) (4.12.2)\n",
      "Requirement already satisfied: langchain-text-splitters<0.4.0,>=0.3.0 in /usr/local/lib/python3.10/dist-packages (from langchain<0.4.0,>=0.3.8->langchain_community) (0.3.2)\n",
      "Requirement already satisfied: jsonpatch<2.0,>=1.33 in /usr/local/lib/python3.10/dist-packages (from langchain-core<0.4.0,>=0.3.15->langchain_groq) (1.33)\n",
      "Requirement already satisfied: packaging<25,>=23.2 in /usr/local/lib/python3.10/dist-packages (from langchain-core<0.4.0,>=0.3.15->langchain_groq) (24.2)\n",
      "Requirement already satisfied: orjson<4.0.0,>=3.9.14 in /usr/local/lib/python3.10/dist-packages (from langsmith<0.2.0,>=0.1.125->langchain_community) (3.10.11)\n",
      "Requirement already satisfied: requests-toolbelt<2.0.0,>=1.0.0 in /usr/local/lib/python3.10/dist-packages (from langsmith<0.2.0,>=0.1.125->langchain_community) (1.0.0)\n",
      "Collecting python-dotenv>=0.21.0 (from pydantic-settings<3.0.0,>=2.4.0->langchain_community)\n",
      "  Downloading python_dotenv-1.0.1-py3-none-any.whl.metadata (23 kB)\n",
      "Requirement already satisfied: charset-normalizer<4,>=2 in /usr/local/lib/python3.10/dist-packages (from requests<3,>=2->langchain_community) (3.4.0)\n",
      "Requirement already satisfied: idna<4,>=2.5 in /usr/local/lib/python3.10/dist-packages (from requests<3,>=2->langchain_community) (3.10)\n",
      "Requirement already satisfied: urllib3<3,>=1.21.1 in /usr/local/lib/python3.10/dist-packages (from requests<3,>=2->langchain_community) (2.2.3)\n",
      "Requirement already satisfied: certifi>=2017.4.17 in /usr/local/lib/python3.10/dist-packages (from requests<3,>=2->langchain_community) (2024.8.30)\n",
      "Requirement already satisfied: greenlet!=0.4.17 in /usr/local/lib/python3.10/dist-packages (from SQLAlchemy<3,>=1.4->langchain_community) (3.1.1)\n",
      "Requirement already satisfied: exceptiongroup in /usr/local/lib/python3.10/dist-packages (from anyio<5,>=3.5.0->groq<1,>=0.4.1->langchain_groq) (1.2.2)\n",
      "Requirement already satisfied: httpcore==1.* in /usr/local/lib/python3.10/dist-packages (from httpx<1,>=0.23.0->groq<1,>=0.4.1->langchain_groq) (1.0.7)\n",
      "Requirement already satisfied: h11<0.15,>=0.13 in /usr/local/lib/python3.10/dist-packages (from httpcore==1.*->httpx<1,>=0.23.0->groq<1,>=0.4.1->langchain_groq) (0.14.0)\n",
      "Requirement already satisfied: jsonpointer>=1.9 in /usr/local/lib/python3.10/dist-packages (from jsonpatch<2.0,>=1.33->langchain-core<0.4.0,>=0.3.15->langchain_groq) (3.0.0)\n",
      "Requirement already satisfied: annotated-types>=0.6.0 in /usr/local/lib/python3.10/dist-packages (from pydantic<3,>=1.9.0->groq<1,>=0.4.1->langchain_groq) (0.7.0)\n",
      "Requirement already satisfied: pydantic-core==2.23.4 in /usr/local/lib/python3.10/dist-packages (from pydantic<3,>=1.9.0->groq<1,>=0.4.1->langchain_groq) (2.23.4)\n",
      "Collecting mypy-extensions>=0.3.0 (from typing-inspect<1,>=0.4.0->dataclasses-json<0.7,>=0.5.7->langchain_community)\n",
      "  Downloading mypy_extensions-1.0.0-py3-none-any.whl.metadata (1.1 kB)\n",
      "Downloading langchain_groq-0.2.1-py3-none-any.whl (14 kB)\n",
      "Downloading langchain_community-0.3.9-py3-none-any.whl (2.4 MB)\n",
      "\u001b[2K   \u001b[90m━━━━━━━━━━━━━━━━━━━━━━━━━━━━━━━━━━━━━━━━\u001b[0m \u001b[32m2.4/2.4 MB\u001b[0m \u001b[31m18.2 MB/s\u001b[0m eta \u001b[36m0:00:00\u001b[0m\n",
      "\u001b[?25hDownloading dataclasses_json-0.6.7-py3-none-any.whl (28 kB)\n",
      "Downloading groq-0.13.0-py3-none-any.whl (108 kB)\n",
      "\u001b[2K   \u001b[90m━━━━━━━━━━━━━━━━━━━━━━━━━━━━━━━━━━━━━━━━\u001b[0m \u001b[32m108.8/108.8 kB\u001b[0m \u001b[31m10.5 MB/s\u001b[0m eta \u001b[36m0:00:00\u001b[0m\n",
      "\u001b[?25hDownloading langchain-0.3.9-py3-none-any.whl (1.0 MB)\n",
      "\u001b[2K   \u001b[90m━━━━━━━━━━━━━━━━━━━━━━━━━━━━━━━━━━━━━━━━\u001b[0m \u001b[32m1.0/1.0 MB\u001b[0m \u001b[31m33.9 MB/s\u001b[0m eta \u001b[36m0:00:00\u001b[0m\n",
      "\u001b[?25hDownloading langchain_core-0.3.21-py3-none-any.whl (409 kB)\n",
      "\u001b[2K   \u001b[90m━━━━━━━━━━━━━━━━━━━━━━━━━━━━━━━━━━━━━━━━\u001b[0m \u001b[32m409.5/409.5 kB\u001b[0m \u001b[31m28.5 MB/s\u001b[0m eta \u001b[36m0:00:00\u001b[0m\n",
      "\u001b[?25hDownloading pydantic_settings-2.6.1-py3-none-any.whl (28 kB)\n",
      "Downloading marshmallow-3.23.1-py3-none-any.whl (49 kB)\n",
      "\u001b[2K   \u001b[90m━━━━━━━━━━━━━━━━━━━━━━━━━━━━━━━━━━━━━━━━\u001b[0m \u001b[32m49.5/49.5 kB\u001b[0m \u001b[31m3.7 MB/s\u001b[0m eta \u001b[36m0:00:00\u001b[0m\n",
      "\u001b[?25hDownloading python_dotenv-1.0.1-py3-none-any.whl (19 kB)\n",
      "Downloading typing_inspect-0.9.0-py3-none-any.whl (8.8 kB)\n",
      "Downloading mypy_extensions-1.0.0-py3-none-any.whl (4.7 kB)\n",
      "Installing collected packages: python-dotenv, mypy-extensions, marshmallow, typing-inspect, pydantic-settings, groq, dataclasses-json, langchain-core, langchain_groq, langchain, langchain_community\n",
      "  Attempting uninstall: langchain-core\n",
      "    Found existing installation: langchain-core 0.3.19\n",
      "    Uninstalling langchain-core-0.3.19:\n",
      "      Successfully uninstalled langchain-core-0.3.19\n",
      "  Attempting uninstall: langchain\n",
      "    Found existing installation: langchain 0.3.7\n",
      "    Uninstalling langchain-0.3.7:\n",
      "      Successfully uninstalled langchain-0.3.7\n",
      "Successfully installed dataclasses-json-0.6.7 groq-0.13.0 langchain-0.3.9 langchain-core-0.3.21 langchain_community-0.3.9 langchain_groq-0.2.1 marshmallow-3.23.1 mypy-extensions-1.0.0 pydantic-settings-2.6.1 python-dotenv-1.0.1 typing-inspect-0.9.0\n"
     ]
    }
   ],
   "source": [
    "!pip install langchain_groq langchain_community"
   ]
  },
  {
   "cell_type": "code",
   "execution_count": 4,
   "metadata": {
    "colab": {
     "base_uri": "https://localhost:8080/",
     "height": 35
    },
    "id": "KKck8SCyHI6M",
    "outputId": "1bee4899-73f8-4a46-e002-b255790abef3"
   },
   "outputs": [
    {
     "data": {
      "application/vnd.google.colaboratory.intrinsic+json": {
       "type": "string"
      },
      "text/plain": [
       "'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'"
      ]
     },
     "execution_count": 4,
     "metadata": {},
     "output_type": "execute_result"
    }
   ],
   "source": [
    "from google.colab import userdata\n",
    "\n",
    "groq_api_key = userdata.get('GROQ_API_KEY')\n",
    "groq_api_key\n",
    "langsmith_api_key = userdata.get('LANGSMITH_API')\n",
    "langsmith_api_key"
   ]
  },
  {
   "cell_type": "code",
   "execution_count": 5,
   "metadata": {
    "id": "DS-vhyq8Itub"
   },
   "outputs": [],
   "source": [
    "import os\n",
    "os.environ['LANGSMITH_API_KEY'] = langsmith_api_key\n",
    "os.environ['LANGCHAIN_TRACING_V2'] = 'true'\n",
    "os.environ['LANGCHAIN_PROJECT'] = 'NoviceLangGraph'"
   ]
  },
  {
   "cell_type": "code",
   "execution_count": 6,
   "metadata": {
    "id": "GMr4SVcwJDKq"
   },
   "outputs": [],
   "source": [
    "from langchain_groq import ChatGroq\n",
    "\n",
    "llm = ChatGroq(model='llama-3.2-3b-preview', groq_api_key=groq_api_key)"
   ]
  },
  {
   "cell_type": "code",
   "execution_count": 7,
   "metadata": {
    "id": "qphd_a8hJjyS"
   },
   "outputs": [],
   "source": [
    "from typing import Annotated\n",
    "from typing_extensions import TypedDict\n",
    "from langgraph.graph import StateGraph,START,END\n",
    "from langgraph.graph.message import add_messages"
   ]
  },
  {
   "cell_type": "code",
   "execution_count": 9,
   "metadata": {
    "id": "Ng-r1Z-KKISt"
   },
   "outputs": [],
   "source": [
    "class State(TypedDict):\n",
    "\n",
    "  messages:Annotated[list[str], add_messages]\n",
    "\n",
    "\n",
    "\n",
    "graph_builder = StateGraph(State)"
   ]
  },
  {
   "cell_type": "code",
   "execution_count": 11,
   "metadata": {
    "id": "y_b4yE-TIexN"
   },
   "outputs": [],
   "source": [
    "def chatbot(state:State):\n",
    "  return {\"messages\":llm.invoke(state[\"messages\"])}"
   ]
  },
  {
   "cell_type": "code",
   "execution_count": 14,
   "metadata": {
    "colab": {
     "base_uri": "https://localhost:8080/",
     "height": 263
    },
    "id": "lIYPKXQSJtOj",
    "outputId": "494da059-3a5a-46ce-ccac-7f6c7f16e427"
   },
   "outputs": [
    {
     "ename": "ValueError",
     "evalue": "Node `chatbot` already present.",
     "output_type": "error",
     "traceback": [
      "\u001b[0;31m---------------------------------------------------------------------------\u001b[0m",
      "\u001b[0;31mValueError\u001b[0m                                Traceback (most recent call last)",
      "\u001b[0;32m<ipython-input-14-d2c0123e662a>\u001b[0m in \u001b[0;36m<cell line: 1>\u001b[0;34m()\u001b[0m\n\u001b[0;32m----> 1\u001b[0;31m \u001b[0mgraph_builder\u001b[0m\u001b[0;34m.\u001b[0m\u001b[0madd_node\u001b[0m\u001b[0;34m(\u001b[0m\u001b[0;34m\"chatbot\"\u001b[0m\u001b[0;34m,\u001b[0m \u001b[0mchatbot\u001b[0m\u001b[0;34m)\u001b[0m\u001b[0;34m\u001b[0m\u001b[0;34m\u001b[0m\u001b[0m\n\u001b[0m",
      "\u001b[0;32m/usr/local/lib/python3.10/dist-packages/langgraph/graph/state.py\u001b[0m in \u001b[0;36madd_node\u001b[0;34m(self, node, action, metadata, input, retry)\u001b[0m\n\u001b[1;32m    359\u001b[0m             \u001b[0;32mraise\u001b[0m \u001b[0mRuntimeError\u001b[0m\u001b[0;34m\u001b[0m\u001b[0;34m\u001b[0m\u001b[0m\n\u001b[1;32m    360\u001b[0m         \u001b[0;32mif\u001b[0m \u001b[0mnode\u001b[0m \u001b[0;32min\u001b[0m \u001b[0mself\u001b[0m\u001b[0;34m.\u001b[0m\u001b[0mnodes\u001b[0m\u001b[0;34m:\u001b[0m\u001b[0;34m\u001b[0m\u001b[0;34m\u001b[0m\u001b[0m\n\u001b[0;32m--> 361\u001b[0;31m             \u001b[0;32mraise\u001b[0m \u001b[0mValueError\u001b[0m\u001b[0;34m(\u001b[0m\u001b[0;34mf\"Node `{node}` already present.\"\u001b[0m\u001b[0;34m)\u001b[0m\u001b[0;34m\u001b[0m\u001b[0;34m\u001b[0m\u001b[0m\n\u001b[0m\u001b[1;32m    362\u001b[0m         \u001b[0;32mif\u001b[0m \u001b[0mnode\u001b[0m \u001b[0;34m==\u001b[0m \u001b[0mEND\u001b[0m \u001b[0;32mor\u001b[0m \u001b[0mnode\u001b[0m \u001b[0;34m==\u001b[0m \u001b[0mSTART\u001b[0m\u001b[0;34m:\u001b[0m\u001b[0;34m\u001b[0m\u001b[0;34m\u001b[0m\u001b[0m\n\u001b[1;32m    363\u001b[0m             \u001b[0;32mraise\u001b[0m \u001b[0mValueError\u001b[0m\u001b[0;34m(\u001b[0m\u001b[0;34mf\"Node `{node}` is reserved.\"\u001b[0m\u001b[0;34m)\u001b[0m\u001b[0;34m\u001b[0m\u001b[0;34m\u001b[0m\u001b[0m\n",
      "\u001b[0;31mValueError\u001b[0m: Node `chatbot` already present."
     ]
    }
   ],
   "source": [
    "graph_builder.add_node(\"chatbot\", chatbot)"
   ]
  },
  {
   "cell_type": "code",
   "execution_count": 15,
   "metadata": {
    "colab": {
     "base_uri": "https://localhost:8080/"
    },
    "id": "wGlwCr8NJJD-",
    "outputId": "ffdd61fc-1878-4aa0-a2f0-5c91642279fc"
   },
   "outputs": [
    {
     "data": {
      "text/plain": [
       "<langgraph.graph.state.StateGraph at 0x7ff36942c700>"
      ]
     },
     "execution_count": 15,
     "metadata": {},
     "output_type": "execute_result"
    }
   ],
   "source": [
    "graph_builder.add_edge(START,\"chatbot\")\n",
    "graph_builder.add_edge(\"chatbot\",END)"
   ]
  },
  {
   "cell_type": "code",
   "execution_count": 17,
   "metadata": {
    "id": "D5phaihOJ2fP"
   },
   "outputs": [],
   "source": [
    "graph = graph_builder.compile()"
   ]
  },
  {
   "cell_type": "code",
   "execution_count": 18,
   "metadata": {
    "colab": {
     "base_uri": "https://localhost:8080/",
     "height": 251
    },
    "id": "H942-_tZJ82S",
    "outputId": "7c4d99ab-881a-480c-ce5c-79eb0fb23862"
   },
   "outputs": [
    {
     "data": {
      "image/png": "[encoded data removed]",
      "text/plain": [
       "<IPython.core.display.Image object>"
      ]
     },
     "metadata": {},
     "output_type": "display_data"
    }
   ],
   "source": [
    "from IPython.display import Markdown,display,Image\n",
    "\n",
    "try:\n",
    "  display(Image(graph.get_graph().draw_mermaid_png()))\n",
    "except Exception:\n",
    "  pass"
   ]
  },
  {
   "cell_type": "code",
   "execution_count": null,
   "metadata": {
    "colab": {
     "base_uri": "https://localhost:8080/",
     "height": 1000
    },
    "id": "fulbghPbKiay",
    "outputId": "0951c9da-a337-445a-ff39-8e1d2a02d6de"
   },
   "outputs": [
    {
     "name": "stdout",
     "output_type": "stream",
     "text": [
      "User : explain me about generative AI \n"
     ]
    },
    {
     "data": {
      "text/html": [
       "<pre style=\"white-space:pre;overflow-x:auto;line-height:normal;font-family:Menlo,'DejaVu Sans Mono',consolas,'Courier New',monospace\"><span style=\"font-weight: bold\">What is Generative AI?</span>                                                                                             \n",
       "\n",
       "Generative AI, also known as Generative Model or Generative Algorithm, is a type of artificial intelligence (AI)   \n",
       "that can generate new, original data that is similar in style, structure, and content to existing data. This is    \n",
       "achieved by using machine learning algorithms that can learn patterns and relationships in the data, and then use  \n",
       "this knowledge to create new data that is coherent and meaningful.                                                 \n",
       "\n",
       "<span style=\"font-weight: bold\">Types of Generative AI</span>                                                                                             \n",
       "\n",
       "There are several types of generative AI, including:                                                               \n",
       "\n",
       "<span style=\"color: #808000; text-decoration-color: #808000; font-weight: bold\"> 1 </span><span style=\"font-weight: bold\">Generative Adversarial Networks (GANs)</span>: GANs consist of two neural networks that work together to generate new  \n",
       "<span style=\"color: #808000; text-decoration-color: #808000; font-weight: bold\">   </span>data. One network generates data, while the other network tries to predict whether the generated data is real or\n",
       "<span style=\"color: #808000; text-decoration-color: #808000; font-weight: bold\">   </span>fake.                                                                                                           \n",
       "<span style=\"color: #808000; text-decoration-color: #808000; font-weight: bold\"> 2 </span><span style=\"font-weight: bold\">Variational Autoencoders (VAEs)</span>: VAEs are a type of neural network that can learn to compress and reconstruct   \n",
       "<span style=\"color: #808000; text-decoration-color: #808000; font-weight: bold\">   </span>data, and then generate new data that is similar to the original data.                                          \n",
       "<span style=\"color: #808000; text-decoration-color: #808000; font-weight: bold\"> 3 </span><span style=\"font-weight: bold\">Recurrent Neural Networks (RNNs)</span>: RNNs are a type of neural network that can learn to generate sequential data, \n",
       "<span style=\"color: #808000; text-decoration-color: #808000; font-weight: bold\">   </span>such as text or speech.                                                                                         \n",
       "<span style=\"color: #808000; text-decoration-color: #808000; font-weight: bold\"> 4 </span><span style=\"font-weight: bold\">Generative Deep Networks (GANs)</span>: GANs are a type of neural network that can learn to generate complex data, such\n",
       "<span style=\"color: #808000; text-decoration-color: #808000; font-weight: bold\">   </span>as images or videos.                                                                                            \n",
       "\n",
       "<span style=\"font-weight: bold\">Applications of Generative AI</span>                                                                                      \n",
       "\n",
       "Generative AI has a wide range of applications, including:                                                         \n",
       "\n",
       "<span style=\"color: #808000; text-decoration-color: #808000; font-weight: bold\"> 1 </span><span style=\"font-weight: bold\">Image and Video Generation</span>: Generative AI can be used to generate new images and videos that are similar in     \n",
       "<span style=\"color: #808000; text-decoration-color: #808000; font-weight: bold\">   </span>style and content to existing images and videos.                                                                \n",
       "<span style=\"color: #808000; text-decoration-color: #808000; font-weight: bold\"> 2 </span><span style=\"font-weight: bold\">Text Generation</span>: Generative AI can be used to generate new text, such as articles, stories, or conversations.   \n",
       "<span style=\"color: #808000; text-decoration-color: #808000; font-weight: bold\"> 3 </span><span style=\"font-weight: bold\">Music Generation</span>: Generative AI can be used to generate new music that is similar in style and content to       \n",
       "<span style=\"color: #808000; text-decoration-color: #808000; font-weight: bold\">   </span>existing music.                                                                                                 \n",
       "<span style=\"color: #808000; text-decoration-color: #808000; font-weight: bold\"> 4 </span><span style=\"font-weight: bold\">Data Augmentation</span>: Generative AI can be used to generate new data that can be used to augment existing datasets,\n",
       "<span style=\"color: #808000; text-decoration-color: #808000; font-weight: bold\">   </span>such as images or text.                                                                                         \n",
       "<span style=\"color: #808000; text-decoration-color: #808000; font-weight: bold\"> 5 </span><span style=\"font-weight: bold\">Style Transfer</span>: Generative AI can be used to transfer the style of one image to another, creating a new image   \n",
       "<span style=\"color: #808000; text-decoration-color: #808000; font-weight: bold\">   </span>that combines the content of the original image with the style of the target image.                             \n",
       "\n",
       "<span style=\"font-weight: bold\">Benefits of Generative AI</span>                                                                                          \n",
       "\n",
       "The benefits of Generative AI include:                                                                             \n",
       "\n",
       "<span style=\"color: #808000; text-decoration-color: #808000; font-weight: bold\"> 1 </span><span style=\"font-weight: bold\">Increased Creativity</span>: Generative AI can generate new and original data that is similar in style and content to  \n",
       "<span style=\"color: #808000; text-decoration-color: #808000; font-weight: bold\">   </span>existing data.                                                                                                  \n",
       "<span style=\"color: #808000; text-decoration-color: #808000; font-weight: bold\"> 2 </span><span style=\"font-weight: bold\">Improved Efficiency</span>: Generative AI can automate the process of generating new data, saving time and resources.  \n",
       "<span style=\"color: #808000; text-decoration-color: #808000; font-weight: bold\"> 3 </span><span style=\"font-weight: bold\">Enhanced Creativity</span>: Generative AI can be used to generate new ideas and concepts that can be used in a variety \n",
       "<span style=\"color: #808000; text-decoration-color: #808000; font-weight: bold\">   </span>of applications.                                                                                                \n",
       "\n",
       "<span style=\"font-weight: bold\">Challenges of Generative AI</span>                                                                                        \n",
       "\n",
       "The challenges of Generative AI include:                                                                           \n",
       "\n",
       "<span style=\"color: #808000; text-decoration-color: #808000; font-weight: bold\"> 1 </span><span style=\"font-weight: bold\">Data Quality</span>: Generative AI requires high-quality data to learn from and generate new data that is similar in   \n",
       "<span style=\"color: #808000; text-decoration-color: #808000; font-weight: bold\">   </span>style and content.                                                                                              \n",
       "<span style=\"color: #808000; text-decoration-color: #808000; font-weight: bold\"> 2 </span><span style=\"font-weight: bold\">Bias and Fairness</span>: Generative AI can perpetuate biases and unfairness in the data it is trained on, leading to  \n",
       "<span style=\"color: #808000; text-decoration-color: #808000; font-weight: bold\">   </span>inaccurate or discriminatory results.                                                                           \n",
       "<span style=\"color: #808000; text-decoration-color: #808000; font-weight: bold\"> 3 </span><span style=\"font-weight: bold\">Explainability</span>: Generative AI can be difficult to understand and explain, making it challenging to identify     \n",
       "<span style=\"color: #808000; text-decoration-color: #808000; font-weight: bold\">   </span>errors or biases.                                                                                               \n",
       "<span style=\"color: #808000; text-decoration-color: #808000; font-weight: bold\"> 4 </span><span style=\"font-weight: bold\">Security</span>: Generative AI can be used to generate new data that is designed to deceive or manipulate others, such \n",
       "<span style=\"color: #808000; text-decoration-color: #808000; font-weight: bold\">   </span>as fake news or deepfakes.                                                                                      \n",
       "\n",
       "<span style=\"font-weight: bold\">Future of Generative AI</span>                                                                                            \n",
       "\n",
       "The future of Generative AI is exciting and rapidly evolving. We can expect to see the development of new and more \n",
       "sophisticated generative algorithms, as well as the application of generative AI in a wide range of industries and \n",
       "domains. Some potential areas of research and development include:                                                 \n",
       "\n",
       "<span style=\"color: #808000; text-decoration-color: #808000; font-weight: bold\"> 1 </span><span style=\"font-weight: bold\">Explainable Generative AI</span>: Developing methods to explain and understand the decisions made by generative AI     \n",
       "<span style=\"color: #808000; text-decoration-color: #808000; font-weight: bold\">   </span>models.                                                                                                         \n",
       "<span style=\"color: #808000; text-decoration-color: #808000; font-weight: bold\"> 2 </span><span style=\"font-weight: bold\">Robust Generative AI</span>: Developing methods to make generative AI models more robust and resilient to errors and   \n",
       "<span style=\"color: #808000; text-decoration-color: #808000; font-weight: bold\">   </span>biases.                                                                                                         \n",
       "<span style=\"color: #808000; text-decoration-color: #808000; font-weight: bold\"> 3 </span><span style=\"font-weight: bold\">Multi-Modal Generative AI</span>: Developing methods to generate data that is similar in style and content to existing \n",
       "<span style=\"color: #808000; text-decoration-color: #808000; font-weight: bold\">   </span>data across multiple modalities, such as text, images, and videos.                                              \n",
       "\n",
       "I hope this provides a good overview of generative AI!                                                             \n",
       "</pre>\n"
      ],
      "text/plain": [
       "\u001b[1mWhat is Generative AI?\u001b[0m                                                                                             \n",
       "\n",
       "Generative AI, also known as Generative Model or Generative Algorithm, is a type of artificial intelligence (AI)   \n",
       "that can generate new, original data that is similar in style, structure, and content to existing data. This is    \n",
       "achieved by using machine learning algorithms that can learn patterns and relationships in the data, and then use  \n",
       "this knowledge to create new data that is coherent and meaningful.                                                 \n",
       "\n",
       "\u001b[1mTypes of Generative AI\u001b[0m                                                                                             \n",
       "\n",
       "There are several types of generative AI, including:                                                               \n",
       "\n",
       "\u001b[1;33m 1 \u001b[0m\u001b[1mGenerative Adversarial Networks (GANs)\u001b[0m: GANs consist of two neural networks that work together to generate new  \n",
       "\u001b[1;33m   \u001b[0mdata. One network generates data, while the other network tries to predict whether the generated data is real or\n",
       "\u001b[1;33m   \u001b[0mfake.                                                                                                           \n",
       "\u001b[1;33m 2 \u001b[0m\u001b[1mVariational Autoencoders (VAEs)\u001b[0m: VAEs are a type of neural network that can learn to compress and reconstruct   \n",
       "\u001b[1;33m   \u001b[0mdata, and then generate new data that is similar to the original data.                                          \n",
       "\u001b[1;33m 3 \u001b[0m\u001b[1mRecurrent Neural Networks (RNNs)\u001b[0m: RNNs are a type of neural network that can learn to generate sequential data, \n",
       "\u001b[1;33m   \u001b[0msuch as text or speech.                                                                                         \n",
       "\u001b[1;33m 4 \u001b[0m\u001b[1mGenerative Deep Networks (GANs)\u001b[0m: GANs are a type of neural network that can learn to generate complex data, such\n",
       "\u001b[1;33m   \u001b[0mas images or videos.                                                                                            \n",
       "\n",
       "\u001b[1mApplications of Generative AI\u001b[0m                                                                                      \n",
       "\n",
       "Generative AI has a wide range of applications, including:                                                         \n",
       "\n",
       "\u001b[1;33m 1 \u001b[0m\u001b[1mImage and Video Generation\u001b[0m: Generative AI can be used to generate new images and videos that are similar in     \n",
       "\u001b[1;33m   \u001b[0mstyle and content to existing images and videos.                                                                \n",
       "\u001b[1;33m 2 \u001b[0m\u001b[1mText Generation\u001b[0m: Generative AI can be used to generate new text, such as articles, stories, or conversations.   \n",
       "\u001b[1;33m 3 \u001b[0m\u001b[1mMusic Generation\u001b[0m: Generative AI can be used to generate new music that is similar in style and content to       \n",
       "\u001b[1;33m   \u001b[0mexisting music.                                                                                                 \n",
       "\u001b[1;33m 4 \u001b[0m\u001b[1mData Augmentation\u001b[0m: Generative AI can be used to generate new data that can be used to augment existing datasets,\n",
       "\u001b[1;33m   \u001b[0msuch as images or text.                                                                                         \n",
       "\u001b[1;33m 5 \u001b[0m\u001b[1mStyle Transfer\u001b[0m: Generative AI can be used to transfer the style of one image to another, creating a new image   \n",
       "\u001b[1;33m   \u001b[0mthat combines the content of the original image with the style of the target image.                             \n",
       "\n",
       "\u001b[1mBenefits of Generative AI\u001b[0m                                                                                          \n",
       "\n",
       "The benefits of Generative AI include:                                                                             \n",
       "\n",
       "\u001b[1;33m 1 \u001b[0m\u001b[1mIncreased Creativity\u001b[0m: Generative AI can generate new and original data that is similar in style and content to  \n",
       "\u001b[1;33m   \u001b[0mexisting data.                                                                                                  \n",
       "\u001b[1;33m 2 \u001b[0m\u001b[1mImproved Efficiency\u001b[0m: Generative AI can automate the process of generating new data, saving time and resources.  \n",
       "\u001b[1;33m 3 \u001b[0m\u001b[1mEnhanced Creativity\u001b[0m: Generative AI can be used to generate new ideas and concepts that can be used in a variety \n",
       "\u001b[1;33m   \u001b[0mof applications.                                                                                                \n",
       "\n",
       "\u001b[1mChallenges of Generative AI\u001b[0m                                                                                        \n",
       "\n",
       "The challenges of Generative AI include:                                                                           \n",
       "\n",
       "\u001b[1;33m 1 \u001b[0m\u001b[1mData Quality\u001b[0m: Generative AI requires high-quality data to learn from and generate new data that is similar in   \n",
       "\u001b[1;33m   \u001b[0mstyle and content.                                                                                              \n",
       "\u001b[1;33m 2 \u001b[0m\u001b[1mBias and Fairness\u001b[0m: Generative AI can perpetuate biases and unfairness in the data it is trained on, leading to  \n",
       "\u001b[1;33m   \u001b[0minaccurate or discriminatory results.                                                                           \n",
       "\u001b[1;33m 3 \u001b[0m\u001b[1mExplainability\u001b[0m: Generative AI can be difficult to understand and explain, making it challenging to identify     \n",
       "\u001b[1;33m   \u001b[0merrors or biases.                                                                                               \n",
       "\u001b[1;33m 4 \u001b[0m\u001b[1mSecurity\u001b[0m: Generative AI can be used to generate new data that is designed to deceive or manipulate others, such \n",
       "\u001b[1;33m   \u001b[0mas fake news or deepfakes.                                                                                      \n",
       "\n",
       "\u001b[1mFuture of Generative AI\u001b[0m                                                                                            \n",
       "\n",
       "The future of Generative AI is exciting and rapidly evolving. We can expect to see the development of new and more \n",
       "sophisticated generative algorithms, as well as the application of generative AI in a wide range of industries and \n",
       "domains. Some potential areas of research and development include:                                                 \n",
       "\n",
       "\u001b[1;33m 1 \u001b[0m\u001b[1mExplainable Generative AI\u001b[0m: Developing methods to explain and understand the decisions made by generative AI     \n",
       "\u001b[1;33m   \u001b[0mmodels.                                                                                                         \n",
       "\u001b[1;33m 2 \u001b[0m\u001b[1mRobust Generative AI\u001b[0m: Developing methods to make generative AI models more robust and resilient to errors and   \n",
       "\u001b[1;33m   \u001b[0mbiases.                                                                                                         \n",
       "\u001b[1;33m 3 \u001b[0m\u001b[1mMulti-Modal Generative AI\u001b[0m: Developing methods to generate data that is similar in style and content to existing \n",
       "\u001b[1;33m   \u001b[0mdata across multiple modalities, such as text, images, and videos.                                              \n",
       "\n",
       "I hope this provides a good overview of generative AI!                                                             \n"
      ]
     },
     "metadata": {},
     "output_type": "display_data"
    },
    {
     "name": "stdout",
     "output_type": "stream",
     "text": [
      "User : How do the molecular mechanisms of tumor microenvironment (TME) immunosuppression contribute to the resistance of solid tumors to immune checkpoint inhibitors (ICIs), and what potential therapeutic strategies are being explored to overcome this resistance?\n"
     ]
    },
    {
     "data": {
      "text/html": [
       "<pre style=\"white-space:pre;overflow-x:auto;line-height:normal;font-family:Menlo,'DejaVu Sans Mono',consolas,'Courier New',monospace\">The tumor microenvironment (TME) plays a crucial role in immunosuppression, which contributes to the resistance of \n",
       "solid tumors to immune checkpoint inhibitors (ICIs). The molecular mechanisms of TME immunosuppression can be      \n",
       "broadly categorized into two main types: intrinsic and extrinsic.                                                  \n",
       "\n",
       "Intrinsic immunosuppression occurs within the tumor cells themselves and involves various mechanisms, including:   \n",
       "\n",
       "<span style=\"color: #808000; text-decoration-color: #808000; font-weight: bold\"> 1 </span><span style=\"font-weight: bold\">Tumor cell-intrinsic immune evasion</span>: Tumor cells can evade immune detection through mechanisms such as antigen  \n",
       "<span style=\"color: #808000; text-decoration-color: #808000; font-weight: bold\">   </span>presentation, cytokine production, and histone deacetylase (HDAC) inhibition.                                   \n",
       "<span style=\"color: #808000; text-decoration-color: #808000; font-weight: bold\"> 2 </span><span style=\"font-weight: bold\">Tumor-specific immune suppression</span>: Tumor cells can suppress the development and function of immune cells, such  \n",
       "<span style=\"color: #808000; text-decoration-color: #808000; font-weight: bold\">   </span>as T cells and macrophages, through the production of immunosuppressive cytokines, like TGF-β and IL-10.        \n",
       "<span style=\"color: #808000; text-decoration-color: #808000; font-weight: bold\"> 3 </span><span style=\"font-weight: bold\">Epigenetic modifications</span>: Tumor cells can epigenetically modify the expression of immune-related genes, leading \n",
       "<span style=\"color: #808000; text-decoration-color: #808000; font-weight: bold\">   </span>to immune suppression.                                                                                          \n",
       "\n",
       "Extrinsic immunosuppression occurs in the TME and involves various mechanisms, including:                          \n",
       "\n",
       "<span style=\"color: #808000; text-decoration-color: #808000; font-weight: bold\"> 1 </span><span style=\"font-weight: bold\">Immune suppressive cells</span>: TME contains immune suppressive cells, such as tumor-associated macrophages (TAMs),   \n",
       "<span style=\"color: #808000; text-decoration-color: #808000; font-weight: bold\">   </span>myeloid-derived suppressor cells (MDSCs), and regulatory T cells (Tregs), which can suppress immune responses.  \n",
       "<span style=\"color: #808000; text-decoration-color: #808000; font-weight: bold\"> 2 </span><span style=\"font-weight: bold\">Cytokine microenvironment</span>: The TME cytokine microenvironment can promote immune suppression through the         \n",
       "<span style=\"color: #808000; text-decoration-color: #808000; font-weight: bold\">   </span>production of immunosuppressive cytokines, such as TGF-β, IL-10, and PD-L1.                                     \n",
       "<span style=\"color: #808000; text-decoration-color: #808000; font-weight: bold\"> 3 </span><span style=\"font-weight: bold\">TME-derived inflammatory mediators</span>: TME-derived inflammatory mediators, such as prostaglandins and leukotrienes,\n",
       "<span style=\"color: #808000; text-decoration-color: #808000; font-weight: bold\">   </span>can promote immune suppression and tumor progression.                                                           \n",
       "\n",
       "These intrinsic and extrinsic mechanisms of TME immunosuppression contribute to the resistance of solid tumors to  \n",
       "ICIs by:                                                                                                           \n",
       "\n",
       "<span style=\"color: #808000; text-decoration-color: #808000; font-weight: bold\"> 1 </span><span style=\"font-weight: bold\">Inhibiting T cell activation and function</span>: ICIs can be ineffective against tumors that are suppressed by TME    \n",
       "<span style=\"color: #808000; text-decoration-color: #808000; font-weight: bold\">   </span>immunosuppressive mechanisms, as T cells are unable to be activated or function properly.                       \n",
       "<span style=\"color: #808000; text-decoration-color: #808000; font-weight: bold\"> 2 </span><span style=\"font-weight: bold\">Increasing PD-L1 expression</span>: ICIs can stimulate PD-L1 expression, but this can be overcome by TME               \n",
       "<span style=\"color: #808000; text-decoration-color: #808000; font-weight: bold\">   </span>immunosuppressive mechanisms, such as the production of TGF-β and IL-10.                                        \n",
       "<span style=\"color: #808000; text-decoration-color: #808000; font-weight: bold\"> 3 </span><span style=\"font-weight: bold\">Enhancing cancer stem cell (CSC) survival</span>: ICIs can target CSCs, but TME immunosuppressive mechanisms can       \n",
       "<span style=\"color: #808000; text-decoration-color: #808000; font-weight: bold\">   </span>promote CSC survival and resistance to ICIs.                                                                    \n",
       "\n",
       "To overcome TME immunosuppression and improve the efficacy of ICIs, several therapeutic strategies are being       \n",
       "explored:                                                                                                          \n",
       "\n",
       "<span style=\"color: #808000; text-decoration-color: #808000; font-weight: bold\"> 1 </span><span style=\"font-weight: bold\">Combination therapy</span>: Combining ICIs with other immunotherapies, such as checkpoint agonists, vaccines, or cancer\n",
       "<span style=\"color: #808000; text-decoration-color: #808000; font-weight: bold\">   </span>immunomodulators, may enhance anti-tumor immune responses.                                                      \n",
       "<span style=\"color: #808000; text-decoration-color: #808000; font-weight: bold\"> 2 </span><span style=\"font-weight: bold\">Targeting TME immunosuppressive cells</span>: Antagonizing or depleting immune suppressive cells, such as TAMs or      \n",
       "<span style=\"color: #808000; text-decoration-color: #808000; font-weight: bold\">   </span>Tregs, may enhance anti-tumor immune responses.                                                                 \n",
       "<span style=\"color: #808000; text-decoration-color: #808000; font-weight: bold\"> 3 </span><span style=\"font-weight: bold\">Inhibiting TME-derived inflammatory mediators</span>: Targeting TME-derived inflammatory mediators, such as            \n",
       "<span style=\"color: #808000; text-decoration-color: #808000; font-weight: bold\">   </span>prostaglandins and leukotrienes, may reduce immune suppression and promote anti-tumor immune responses.         \n",
       "<span style=\"color: #808000; text-decoration-color: #808000; font-weight: bold\"> 4 </span><span style=\"font-weight: bold\">Delivery of immunotherapies directly to the tumor</span>: Direct delivery of immunotherapies to the tumor site may     \n",
       "<span style=\"color: #808000; text-decoration-color: #808000; font-weight: bold\">   </span>overcome TME immunosuppression and improve anti-tumor immune responses.                                         \n",
       "<span style=\"color: #808000; text-decoration-color: #808000; font-weight: bold\"> 5 </span><span style=\"font-weight: bold\">Immunotherapy-based adjuvants</span>: Developing adjuvants that can enhance anti-tumor immune responses, such as cancer\n",
       "<span style=\"color: #808000; text-decoration-color: #808000; font-weight: bold\">   </span>vaccines or immunomodulatory agents, may improve the efficacy of ICIs.                                          \n",
       "\n",
       "In summary, the molecular mechanisms of TME immunosuppression play a crucial role in the resistance of solid tumors\n",
       "to ICIs. Overcoming TME immunosuppression through combination therapy, targeting TME immunosuppressive cells,      \n",
       "inhibiting TME-derived inflammatory mediators, delivering immunotherapies directly to the tumor, and developing    \n",
       "immunotherapy-based adjuvants may improve the efficacy of ICIs.                                                    \n",
       "</pre>\n"
      ],
      "text/plain": [
       "The tumor microenvironment (TME) plays a crucial role in immunosuppression, which contributes to the resistance of \n",
       "solid tumors to immune checkpoint inhibitors (ICIs). The molecular mechanisms of TME immunosuppression can be      \n",
       "broadly categorized into two main types: intrinsic and extrinsic.                                                  \n",
       "\n",
       "Intrinsic immunosuppression occurs within the tumor cells themselves and involves various mechanisms, including:   \n",
       "\n",
       "\u001b[1;33m 1 \u001b[0m\u001b[1mTumor cell-intrinsic immune evasion\u001b[0m: Tumor cells can evade immune detection through mechanisms such as antigen  \n",
       "\u001b[1;33m   \u001b[0mpresentation, cytokine production, and histone deacetylase (HDAC) inhibition.                                   \n",
       "\u001b[1;33m 2 \u001b[0m\u001b[1mTumor-specific immune suppression\u001b[0m: Tumor cells can suppress the development and function of immune cells, such  \n",
       "\u001b[1;33m   \u001b[0mas T cells and macrophages, through the production of immunosuppressive cytokines, like TGF-β and IL-10.        \n",
       "\u001b[1;33m 3 \u001b[0m\u001b[1mEpigenetic modifications\u001b[0m: Tumor cells can epigenetically modify the expression of immune-related genes, leading \n",
       "\u001b[1;33m   \u001b[0mto immune suppression.                                                                                          \n",
       "\n",
       "Extrinsic immunosuppression occurs in the TME and involves various mechanisms, including:                          \n",
       "\n",
       "\u001b[1;33m 1 \u001b[0m\u001b[1mImmune suppressive cells\u001b[0m: TME contains immune suppressive cells, such as tumor-associated macrophages (TAMs),   \n",
       "\u001b[1;33m   \u001b[0mmyeloid-derived suppressor cells (MDSCs), and regulatory T cells (Tregs), which can suppress immune responses.  \n",
       "\u001b[1;33m 2 \u001b[0m\u001b[1mCytokine microenvironment\u001b[0m: The TME cytokine microenvironment can promote immune suppression through the         \n",
       "\u001b[1;33m   \u001b[0mproduction of immunosuppressive cytokines, such as TGF-β, IL-10, and PD-L1.                                     \n",
       "\u001b[1;33m 3 \u001b[0m\u001b[1mTME-derived inflammatory mediators\u001b[0m: TME-derived inflammatory mediators, such as prostaglandins and leukotrienes,\n",
       "\u001b[1;33m   \u001b[0mcan promote immune suppression and tumor progression.                                                           \n",
       "\n",
       "These intrinsic and extrinsic mechanisms of TME immunosuppression contribute to the resistance of solid tumors to  \n",
       "ICIs by:                                                                                                           \n",
       "\n",
       "\u001b[1;33m 1 \u001b[0m\u001b[1mInhibiting T cell activation and function\u001b[0m: ICIs can be ineffective against tumors that are suppressed by TME    \n",
       "\u001b[1;33m   \u001b[0mimmunosuppressive mechanisms, as T cells are unable to be activated or function properly.                       \n",
       "\u001b[1;33m 2 \u001b[0m\u001b[1mIncreasing PD-L1 expression\u001b[0m: ICIs can stimulate PD-L1 expression, but this can be overcome by TME               \n",
       "\u001b[1;33m   \u001b[0mimmunosuppressive mechanisms, such as the production of TGF-β and IL-10.                                        \n",
       "\u001b[1;33m 3 \u001b[0m\u001b[1mEnhancing cancer stem cell (CSC) survival\u001b[0m: ICIs can target CSCs, but TME immunosuppressive mechanisms can       \n",
       "\u001b[1;33m   \u001b[0mpromote CSC survival and resistance to ICIs.                                                                    \n",
       "\n",
       "To overcome TME immunosuppression and improve the efficacy of ICIs, several therapeutic strategies are being       \n",
       "explored:                                                                                                          \n",
       "\n",
       "\u001b[1;33m 1 \u001b[0m\u001b[1mCombination therapy\u001b[0m: Combining ICIs with other immunotherapies, such as checkpoint agonists, vaccines, or cancer\n",
       "\u001b[1;33m   \u001b[0mimmunomodulators, may enhance anti-tumor immune responses.                                                      \n",
       "\u001b[1;33m 2 \u001b[0m\u001b[1mTargeting TME immunosuppressive cells\u001b[0m: Antagonizing or depleting immune suppressive cells, such as TAMs or      \n",
       "\u001b[1;33m   \u001b[0mTregs, may enhance anti-tumor immune responses.                                                                 \n",
       "\u001b[1;33m 3 \u001b[0m\u001b[1mInhibiting TME-derived inflammatory mediators\u001b[0m: Targeting TME-derived inflammatory mediators, such as            \n",
       "\u001b[1;33m   \u001b[0mprostaglandins and leukotrienes, may reduce immune suppression and promote anti-tumor immune responses.         \n",
       "\u001b[1;33m 4 \u001b[0m\u001b[1mDelivery of immunotherapies directly to the tumor\u001b[0m: Direct delivery of immunotherapies to the tumor site may     \n",
       "\u001b[1;33m   \u001b[0movercome TME immunosuppression and improve anti-tumor immune responses.                                         \n",
       "\u001b[1;33m 5 \u001b[0m\u001b[1mImmunotherapy-based adjuvants\u001b[0m: Developing adjuvants that can enhance anti-tumor immune responses, such as cancer\n",
       "\u001b[1;33m   \u001b[0mvaccines or immunomodulatory agents, may improve the efficacy of ICIs.                                          \n",
       "\n",
       "In summary, the molecular mechanisms of TME immunosuppression play a crucial role in the resistance of solid tumors\n",
       "to ICIs. Overcoming TME immunosuppression through combination therapy, targeting TME immunosuppressive cells,      \n",
       "inhibiting TME-derived inflammatory mediators, delivering immunotherapies directly to the tumor, and developing    \n",
       "immunotherapy-based adjuvants may improve the efficacy of ICIs.                                                    \n"
      ]
     },
     "metadata": {},
     "output_type": "display_data"
    },
    {
     "name": "stdout",
     "output_type": "stream",
     "text": [
      "User : show me a tabular differences between transformer architecture and the mamba architecture \n"
     ]
    },
    {
     "data": {
      "text/html": [
       "<pre style=\"white-space:pre;overflow-x:auto;line-height:normal;font-family:Menlo,'DejaVu Sans Mono',consolas,'Courier New',monospace\">Here's a table highlighting the main differences between the Transformer architecture and the Mamba architecture:  \n",
       "\n",
       "                                                                                                                   \n",
       " <span style=\"font-weight: bold\"> Feature                  </span> <span style=\"font-weight: bold\"> Transformer Architecture                  </span> <span style=\"font-weight: bold\"> Mamba Architecture                       </span> \n",
       " ━━━━━━━━━━━━━━━━━━━━━━━━━━━━━━━━━━━━━━━━━━━━━━━━━━━━━━━━━━━━━━━━━━━━━━━━━━━━━━━━━━━━━━━━━━━━━━━━━━━━━━━━━━━━━━━━━ \n",
       "  <span style=\"font-weight: bold\">Model Type</span>                 Self-Attention Mechanism                    Self-Attention Mechanism                  \n",
       "  <span style=\"font-weight: bold\">Layer Structure</span>            Encoder-Decoder with Multi-Head Attention   Encoder-Decoder with Multi-Head           \n",
       "                                                                         Attention                                 \n",
       "  <span style=\"font-weight: bold\">Self-Attention Mechanism</span>   Custom implementation                       Modulated Multi-Head Attention            \n",
       "  <span style=\"font-weight: bold\">Attention Weights</span>          Learned Softmax Attention Weights           Learned Softmax Attention Weights         \n",
       "  <span style=\"font-weight: bold\">Parallelization</span>            Scales linearly with input sequence         Scales linearly with input sequence       \n",
       "                             length                                      length                                    \n",
       "  <span style=\"font-weight: bold\">Computational Cost</span>         Computes $\\mathcal{O}(N^2)$ matrix          Computes $\\mathcal{O}(N^2)$ matrix        \n",
       "                             multiplication                              multiplication                            \n",
       "  <span style=\"font-weight: bold\">Input/Output</span>               Input: Variable-length sequences, Output:   Input: Variable-length sequences,         \n",
       "                             Variable-length sequences                   Output: Variable-length sequences         \n",
       "  <span style=\"font-weight: bold\">Training Requirements</span>      No prior knowledge of sequence              No prior knowledge of sequence            \n",
       "                             dependencies                                dependencies                              \n",
       "  <span style=\"font-weight: bold\">Variations</span>                 BERT, RoBERTa, DistilBERT                   Mamba-1, Mamba-2, Mamba-3                 \n",
       "                                                                                                                   \n",
       "\n",
       "However, I do not know what Mamba Architecture refers to, I assume it is referring to 'MAMBA' (Multi-Attention     \n",
       "Mechanism for BERT and its variants).                                                                              \n",
       "\n",
       "Here's an alternative table:                                                                                       \n",
       "\n",
       "                                                                                                                   \n",
       " <span style=\"font-weight: bold\"> Feature                  </span> <span style=\"font-weight: bold\"> Transformer Architecture                  </span> <span style=\"font-weight: bold\"> MAMBA Architecture                       </span> \n",
       " ━━━━━━━━━━━━━━━━━━━━━━━━━━━━━━━━━━━━━━━━━━━━━━━━━━━━━━━━━━━━━━━━━━━━━━━━━━━━━━━━━━━━━━━━━━━━━━━━━━━━━━━━━━━━━━━━━ \n",
       "  <span style=\"font-weight: bold\">Model Type</span>                 Self-Attention Mechanism                    Multi-Attention Mechanism                 \n",
       "  <span style=\"font-weight: bold\">Layer Structure</span>            Encoder-Decoder with Multi-Head Attention   Multi-Head Attention                      \n",
       "  <span style=\"font-weight: bold\">Self-Attention Mechanism</span>   Custom implementation                       Multi-Head Attention with Improved        \n",
       "                                                                         Efficiency                                \n",
       "  <span style=\"font-weight: bold\">Attention Weights</span>          Learned Softmax Attention Weights           Learned Softmax Attention Weights         \n",
       "  <span style=\"font-weight: bold\">Parallelization</span>            Scales linearly with input sequence         Scales linearly with input sequence       \n",
       "                             length                                      length                                    \n",
       "  <span style=\"font-weight: bold\">Computational Cost</span>         Computes $\\mathcal{O}(N^2)$ matrix          Computes $\\mathcal{O}(N^2)$ matrix        \n",
       "                             multiplication                              multiplication                            \n",
       "  <span style=\"font-weight: bold\">Input/Output</span>               Input: Variable-length sequences, Output:   Input: Variable-length sequences,         \n",
       "                             Variable-length sequences                   Output: Variable-length sequences         \n",
       "  <span style=\"font-weight: bold\">Training Requirements</span>      No prior knowledge of sequence              No prior knowledge of sequence            \n",
       "                             dependencies                                dependencies                              \n",
       "  <span style=\"font-weight: bold\">Variations</span>                 BERT, RoBERTa, DistilBERT                   MAMBA-1, MAMBA-2, MAMBA-3                 \n",
       "                                                                                                                   \n",
       "</pre>\n"
      ],
      "text/plain": [
       "Here's a table highlighting the main differences between the Transformer architecture and the Mamba architecture:  \n",
       "\n",
       "                                                                                                                   \n",
       " \u001b[1m \u001b[0m\u001b[1mFeature\u001b[0m\u001b[1m                 \u001b[0m\u001b[1m \u001b[0m \u001b[1m \u001b[0m\u001b[1mTransformer Architecture\u001b[0m\u001b[1m                 \u001b[0m\u001b[1m \u001b[0m \u001b[1m \u001b[0m\u001b[1mMamba Architecture\u001b[0m\u001b[1m                      \u001b[0m\u001b[1m \u001b[0m \n",
       " ━━━━━━━━━━━━━━━━━━━━━━━━━━━━━━━━━━━━━━━━━━━━━━━━━━━━━━━━━━━━━━━━━━━━━━━━━━━━━━━━━━━━━━━━━━━━━━━━━━━━━━━━━━━━━━━━━ \n",
       "  \u001b[1mModel Type\u001b[0m                 Self-Attention Mechanism                    Self-Attention Mechanism                  \n",
       "  \u001b[1mLayer Structure\u001b[0m            Encoder-Decoder with Multi-Head Attention   Encoder-Decoder with Multi-Head           \n",
       "                                                                         Attention                                 \n",
       "  \u001b[1mSelf-Attention Mechanism\u001b[0m   Custom implementation                       Modulated Multi-Head Attention            \n",
       "  \u001b[1mAttention Weights\u001b[0m          Learned Softmax Attention Weights           Learned Softmax Attention Weights         \n",
       "  \u001b[1mParallelization\u001b[0m            Scales linearly with input sequence         Scales linearly with input sequence       \n",
       "                             length                                      length                                    \n",
       "  \u001b[1mComputational Cost\u001b[0m         Computes $\\mathcal{O}(N^2)$ matrix          Computes $\\mathcal{O}(N^2)$ matrix        \n",
       "                             multiplication                              multiplication                            \n",
       "  \u001b[1mInput/Output\u001b[0m               Input: Variable-length sequences, Output:   Input: Variable-length sequences,         \n",
       "                             Variable-length sequences                   Output: Variable-length sequences         \n",
       "  \u001b[1mTraining Requirements\u001b[0m      No prior knowledge of sequence              No prior knowledge of sequence            \n",
       "                             dependencies                                dependencies                              \n",
       "  \u001b[1mVariations\u001b[0m                 BERT, RoBERTa, DistilBERT                   Mamba-1, Mamba-2, Mamba-3                 \n",
       "                                                                                                                   \n",
       "\n",
       "However, I do not know what Mamba Architecture refers to, I assume it is referring to 'MAMBA' (Multi-Attention     \n",
       "Mechanism for BERT and its variants).                                                                              \n",
       "\n",
       "Here's an alternative table:                                                                                       \n",
       "\n",
       "                                                                                                                   \n",
       " \u001b[1m \u001b[0m\u001b[1mFeature\u001b[0m\u001b[1m                 \u001b[0m\u001b[1m \u001b[0m \u001b[1m \u001b[0m\u001b[1mTransformer Architecture\u001b[0m\u001b[1m                 \u001b[0m\u001b[1m \u001b[0m \u001b[1m \u001b[0m\u001b[1mMAMBA Architecture\u001b[0m\u001b[1m                      \u001b[0m\u001b[1m \u001b[0m \n",
       " ━━━━━━━━━━━━━━━━━━━━━━━━━━━━━━━━━━━━━━━━━━━━━━━━━━━━━━━━━━━━━━━━━━━━━━━━━━━━━━━━━━━━━━━━━━━━━━━━━━━━━━━━━━━━━━━━━ \n",
       "  \u001b[1mModel Type\u001b[0m                 Self-Attention Mechanism                    Multi-Attention Mechanism                 \n",
       "  \u001b[1mLayer Structure\u001b[0m            Encoder-Decoder with Multi-Head Attention   Multi-Head Attention                      \n",
       "  \u001b[1mSelf-Attention Mechanism\u001b[0m   Custom implementation                       Multi-Head Attention with Improved        \n",
       "                                                                         Efficiency                                \n",
       "  \u001b[1mAttention Weights\u001b[0m          Learned Softmax Attention Weights           Learned Softmax Attention Weights         \n",
       "  \u001b[1mParallelization\u001b[0m            Scales linearly with input sequence         Scales linearly with input sequence       \n",
       "                             length                                      length                                    \n",
       "  \u001b[1mComputational Cost\u001b[0m         Computes $\\mathcal{O}(N^2)$ matrix          Computes $\\mathcal{O}(N^2)$ matrix        \n",
       "                             multiplication                              multiplication                            \n",
       "  \u001b[1mInput/Output\u001b[0m               Input: Variable-length sequences, Output:   Input: Variable-length sequences,         \n",
       "                             Variable-length sequences                   Output: Variable-length sequences         \n",
       "  \u001b[1mTraining Requirements\u001b[0m      No prior knowledge of sequence              No prior knowledge of sequence            \n",
       "                             dependencies                                dependencies                              \n",
       "  \u001b[1mVariations\u001b[0m                 BERT, RoBERTa, DistilBERT                   MAMBA-1, MAMBA-2, MAMBA-3                 \n",
       "                                                                                                                   \n"
      ]
     },
     "metadata": {},
     "output_type": "display_data"
    }
   ],
   "source": [
    "from rich.console import Console\n",
    "from rich.markdown import Markdown\n",
    "\n",
    "# Initialize a Rich console for Markdown rendering\n",
    "console = Console()\n",
    "\n",
    "while True:\n",
    "    user_input = input(\"User : \")\n",
    "    if user_input.lower() in [\"quit\", \"q\"]:\n",
    "        print(\"Goodbye\")\n",
    "        break  # Exit the loop properly after saying goodbye\n",
    "\n",
    "    # Assuming `graph.stream()` returns a stream of events\n",
    "    for event in graph.stream({'messages': (\"user\", user_input)}):\n",
    "        for value in event.values():\n",
    "            # Ensure \"messages\" exists and handle appropriately\n",
    "            if \"messages\" in value:\n",
    "                message = value[\"messages\"]\n",
    "                if hasattr(message, \"content\"):  # Check if content attribute exists\n",
    "                    response_content = message.content\n",
    "                else:\n",
    "                    response_content = \"No content available\"\n",
    "\n",
    "                # Use Rich's Markdown rendering for the assistant's response\n",
    "                markdown = Markdown(response_content)\n",
    "                console.print(markdown)"
   ]
  }
 ],
 "metadata": {
  "colab": {
   "provenance": []
  },
  "kernelspec": {
   "display_name": "LSTM",
   "language": "python",
   "name": "python3"
  },
  "language_info": {
   "codemirror_mode": {
    "name": "ipython",
    "version": 3
   },
   "file_extension": ".py",
   "mimetype": "text/x-python",
   "name": "python",
   "nbconvert_exporter": "python",
   "pygments_lexer": "ipython3",
   "version": "3.11.10"
  }
 },
 "nbformat": 4,
 "nbformat_minor": 0
}
